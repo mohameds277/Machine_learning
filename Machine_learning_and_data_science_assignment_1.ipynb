{
  "nbformat": 4,
  "nbformat_minor": 0,
  "metadata": {
    "colab": {
      "provenance": [],
      "authorship_tag": "ABX9TyOW5MzmdSymcFoVX//ox9bn",
      "include_colab_link": true
    },
    "kernelspec": {
      "name": "python3",
      "display_name": "Python 3"
    },
    "language_info": {
      "name": "python"
    }
  },
  "cells": [
    {
      "cell_type": "markdown",
      "metadata": {
        "id": "view-in-github",
        "colab_type": "text"
      },
      "source": [
        "<a href=\"https://colab.research.google.com/github/mohameds277/Machine_learning/blob/main/Machine_learning_and_data_science_assignment_1.ipynb\" target=\"_parent\"><img src=\"https://colab.research.google.com/assets/colab-badge.svg\" alt=\"Open In Colab\"/></a>"
      ]
    },
    {
      "cell_type": "markdown",
      "source": [
        "# Machine learning and data science ENCS5341 assignment 1\n",
        "\n",
        "# Mohamed Shqierat 1190702\n",
        "\n",
        "\n",
        "---\n",
        "\n",
        "\n"
      ],
      "metadata": {
        "id": "G_bkZ5b1c1jF"
      }
    },
    {
      "cell_type": "markdown",
      "source": [
        "# **1-** Read the dataset and examine how many features and examples does it have?\n"
      ],
      "metadata": {
        "id": "TJS2c_K-rQdm"
      }
    },
    {
      "cell_type": "code",
      "execution_count": 14,
      "metadata": {
        "id": "ZwKLEGOrzPw2",
        "colab": {
          "base_uri": "https://localhost:8080/"
        },
        "outputId": "c9054779-5c0b-4bf3-e422-7beb3a9e4729"
      },
      "outputs": [
        {
          "output_type": "stream",
          "name": "stdout",
          "text": [
            "      mpg  cylinders  displacement  horsepower  weight  acceleration  \\\n",
            "0    18.0          8         307.0       130.0    3504          12.0   \n",
            "1    15.0          8         350.0       165.0    3693          11.5   \n",
            "2    18.0          8         318.0       150.0    3436          11.0   \n",
            "3    16.0          8         304.0       150.0    3433          12.0   \n",
            "4    17.0          8         302.0       140.0    3449          10.5   \n",
            "..    ...        ...           ...         ...     ...           ...   \n",
            "393  27.0          4         140.0        86.0    2790          15.6   \n",
            "394  44.0          4          97.0        52.0    2130          24.6   \n",
            "395  32.0          4         135.0        84.0    2295          11.6   \n",
            "396  28.0          4         120.0        79.0    2625          18.6   \n",
            "397  31.0          4         119.0        82.0    2720          19.4   \n",
            "\n",
            "     model_year  origin  \n",
            "0            70     USA  \n",
            "1            70     USA  \n",
            "2            70     USA  \n",
            "3            70     USA  \n",
            "4            70     USA  \n",
            "..          ...     ...  \n",
            "393          82     USA  \n",
            "394          82  Europe  \n",
            "395          82     USA  \n",
            "396          82     USA  \n",
            "397          82     USA  \n",
            "\n",
            "[398 rows x 8 columns]\n"
          ]
        }
      ],
      "source": [
        "#importing pandas library as pd alias\n",
        "import pandas as pd\n",
        "\n",
        "\n",
        "#extracting cars.csv data into pandas datafram\n",
        "data_frame_cars = pd.read_csv('cars.csv')\n",
        "\n",
        "#printing ALL csv data in frame forms\n",
        "print(data_frame_cars)\n"
      ]
    },
    {
      "cell_type": "code",
      "source": [
        "number_of_samples = len(data_frame_cars)\n",
        "print(f' number of examples : {number_of_samples}')\n",
        "\n",
        "number_of_features = data_frame_cars.shape[1]\n",
        "print(f' number of features : {number_of_features}')\n",
        "\n",
        "print(\"Features  \")\n",
        "features = data_frame_cars.columns\n",
        "for feature  in  features:\n",
        "    print(feature)\n"
      ],
      "metadata": {
        "colab": {
          "base_uri": "https://localhost:8080/"
        },
        "id": "2qYUE3KGrGid",
        "outputId": "73932836-ed20-4f92-dfcc-d2c052c2f6f0"
      },
      "execution_count": 21,
      "outputs": [
        {
          "output_type": "stream",
          "name": "stdout",
          "text": [
            " number of examples : 398\n",
            " number of features : 8\n",
            "Features  \n",
            "mpg\n",
            "cylinders\n",
            "displacement\n",
            "horsepower\n",
            "weight\n",
            "acceleration\n",
            "model_year\n",
            "origin\n"
          ]
        }
      ]
    },
    {
      "cell_type": "markdown",
      "source": [
        "**there are 398 example and 8 feature for each example  in cars.csv dataset file **\n",
        "\n",
        "\n",
        "\n",
        "\n",
        "\n"
      ],
      "metadata": {
        "id": "PXcDF-0IrfyM"
      }
    },
    {
      "cell_type": "markdown",
      "source": [
        "# **2-**Are there features with missing values? How many missing values are there in\n",
        "# each one?\n",
        "\n",
        "\n"
      ],
      "metadata": {
        "id": "xoKsif3HrGAN"
      }
    },
    {
      "cell_type": "code",
      "source": [
        "print(data_frame_cars.isnull().sum())"
      ],
      "metadata": {
        "colab": {
          "base_uri": "https://localhost:8080/"
        },
        "id": "YZc1BOk8vRoQ",
        "outputId": "3fc0fb2d-9256-4170-8b9d-dc73be610204"
      },
      "execution_count": 20,
      "outputs": [
        {
          "output_type": "stream",
          "name": "stdout",
          "text": [
            "mpg             0\n",
            "cylinders       0\n",
            "displacement    0\n",
            "horsepower      6\n",
            "weight          0\n",
            "acceleration    0\n",
            "model_year      0\n",
            "origin          2\n",
            "dtype: int64\n"
          ]
        }
      ]
    },
    {
      "cell_type": "markdown",
      "source": [
        "AS appears  above , there are 6  missing values  located in hourspower feature and 2 missing values in origin feature\n",
        "\n",
        "\n",
        "---\n",
        "\n"
      ],
      "metadata": {
        "id": "Wa-2ztg9xjjU"
      }
    },
    {
      "cell_type": "markdown",
      "source": [
        "# **3- Fill the missing values in each feature using a proper imputation method**"
      ],
      "metadata": {
        "id": "0S4WzSkUrO0l"
      }
    }
  ]
}