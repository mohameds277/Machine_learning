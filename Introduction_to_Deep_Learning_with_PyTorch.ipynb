{
  "nbformat": 4,
  "nbformat_minor": 0,
  "metadata": {
    "colab": {
      "provenance": [],
      "toc_visible": true,
      "authorship_tag": "ABX9TyPbqkMJ3cqtt/YI8Wek3lqI",
      "include_colab_link": true
    },
    "kernelspec": {
      "name": "python3",
      "display_name": "Python 3"
    },
    "language_info": {
      "name": "python"
    }
  },
  "cells": [
    {
      "cell_type": "markdown",
      "metadata": {
        "id": "view-in-github",
        "colab_type": "text"
      },
      "source": [
        "<a href=\"https://colab.research.google.com/github/mohameds277/Machine_learning/blob/main/Introduction_to_Deep_Learning_with_PyTorch.ipynb\" target=\"_parent\"><img src=\"https://colab.research.google.com/assets/colab-badge.svg\" alt=\"Open In Colab\"/></a>"
      ]
    },
    {
      "cell_type": "markdown",
      "source": [
        "# Introduction to Deep Learning with PyTorch\n",
        "\n",
        "Mohamed Shqierat 1190702"
      ],
      "metadata": {
        "id": "a7ptK2cc3TFy"
      }
    },
    {
      "cell_type": "markdown",
      "source": [
        "The goal of this experiment is to introduce you to deep learning frameworks. There\n",
        "are many frameworks for deep learning such as TensorFlow, PyTorch, Keras, ... etc.\n",
        "In this lab you will learn the basics of PyTorch. The reason why we choose PyTorch\n",
        "is that it is pythonic, easy to learn, and the most pupular framework in academic\n",
        "communities. This experimet is based on PyTorch tutorials."
      ],
      "metadata": {
        "id": "-XDwpKJb3YwO"
      }
    },
    {
      "cell_type": "markdown",
      "source": [
        "PyTorch is a Python-based scientific computing package serving two broad purposes:\n",
        "a replacement for NumPy to use the power of GPUs and other accelerators, and an\n",
        "automatic differentiation library that is useful to implement neural networks. It is\n",
        "primarily developed by Facebook AI Research lab (FAIR).\n"
      ],
      "metadata": {
        "id": "J1hbHfvA3jsF"
      }
    },
    {
      "cell_type": "markdown",
      "source": [
        "# 1.1 Tensors"
      ],
      "metadata": {
        "id": "kMPHHGvM3mbE"
      }
    },
    {
      "cell_type": "markdown",
      "source": [
        "Tensors are a specialized data structure that are very similar to arrays and matrices.\n",
        "In PyTorch, we use tensors to encode the inputs and outputs of a model, as well\n",
        "as the model’s parameters. Tensors are similar to NumPy’s ndarrays, except that\n",
        "tensors can run on GPUs or other specialized hardware to accelerate computing.\n",
        "Let’s start by importing pytorch and numpy\n"
      ],
      "metadata": {
        "id": "2xSJWUfb3rSh"
      }
    },
    {
      "cell_type": "code",
      "source": [
        "import torch\n",
        "import numpy as np"
      ],
      "metadata": {
        "id": "ZBxiVfXC3wLZ"
      },
      "execution_count": 51,
      "outputs": []
    },
    {
      "cell_type": "markdown",
      "source": [
        "**Tensor Initialization**\n"
      ],
      "metadata": {
        "id": "6Jc8IFYO317f"
      }
    },
    {
      "cell_type": "markdown",
      "source": [
        "Tensors can be initialized in various ways. Take a look at the following examples:\n"
      ],
      "metadata": {
        "id": "u7b4JCBo34TO"
      }
    },
    {
      "cell_type": "markdown",
      "source": [
        "1. Directly from data\n",
        "Tensors can be created directly from data. The data type is automatically\n",
        "inferred."
      ],
      "metadata": {
        "id": "xSKsPel-36Rs"
      }
    },
    {
      "cell_type": "code",
      "execution_count": 52,
      "metadata": {
        "id": "JA1dIDvD3Oz8",
        "colab": {
          "base_uri": "https://localhost:8080/"
        },
        "outputId": "efdf2b60-f750-4346-c683-b9c11b269666"
      },
      "outputs": [
        {
          "output_type": "stream",
          "name": "stdout",
          "text": [
            "tensor([[1, 2],\n",
            "        [3, 4]])\n"
          ]
        }
      ],
      "source": [
        "data = [[1, 2], [3, 4]]         # list of lists ( 2 X 2 Matrix )\n",
        "x_data = torch.tensor(data)     # converts lists of lists into Tensor Data strucutre\n",
        "print(x_data)\n"
      ]
    },
    {
      "cell_type": "markdown",
      "source": [],
      "metadata": {
        "id": "t0B2wtGGePX0"
      }
    },
    {
      "cell_type": "markdown",
      "source": [
        "2. From a NumPy array\n",
        "Tensors can be created from NumPy arrays\n"
      ],
      "metadata": {
        "id": "FdHMsr7r4DhQ"
      }
    },
    {
      "cell_type": "code",
      "source": [
        "np_array = np.array(data)\n",
        "print(np_array)\n",
        "\n",
        "\n",
        "x_np = torch.from_numpy(np_array)       # ***tensor are  similar to NumPy arrays but have additional capabilities like GPU acceleration.***\n",
        "\n",
        "print(x_np)"
      ],
      "metadata": {
        "id": "_7jFosDU4HmM",
        "colab": {
          "base_uri": "https://localhost:8080/"
        },
        "outputId": "a36be784-c258-4a5e-ad1f-7a4fdcc2cb18"
      },
      "execution_count": 53,
      "outputs": [
        {
          "output_type": "stream",
          "name": "stdout",
          "text": [
            "[[1 2]\n",
            " [3 4]]\n",
            "tensor([[1, 2],\n",
            "        [3, 4]])\n"
          ]
        }
      ]
    },
    {
      "cell_type": "markdown",
      "source": [
        "3. From another tensor:\n",
        "The new tensor retains the properties (shape, datatype) of the argument tensor,\n",
        "unless explicitly overridden.\n"
      ],
      "metadata": {
        "id": "fygGWKLE4HKn"
      }
    },
    {
      "cell_type": "code",
      "source": [
        "x_ones = torch.ones_like(x_data) # retains the properties of x_data   ( using the dimension of x_data but with 1 population)\n",
        "\n",
        "print(f\"Ones Tensor: \\n {x_ones} \\n\")\n",
        "\n",
        "x_rand = torch.rand_like(x_data, dtype=torch.float) # overrides the datatype of x_data    ( same as x_data matrix dimension but with fload random population)\n",
        "print(f\"Random Tensor: \\n {x_rand} \\n\")"
      ],
      "metadata": {
        "colab": {
          "base_uri": "https://localhost:8080/"
        },
        "id": "kqHk0sij4N-P",
        "outputId": "01a296f3-51bc-42fc-b54f-457a5f5aa56c"
      },
      "execution_count": 54,
      "outputs": [
        {
          "output_type": "stream",
          "name": "stdout",
          "text": [
            "Ones Tensor: \n",
            " tensor([[1, 1],\n",
            "        [1, 1]]) \n",
            "\n",
            "Random Tensor: \n",
            " tensor([[0.4978, 0.8540],\n",
            "        [0.7558, 0.7660]]) \n",
            "\n"
          ]
        }
      ]
    },
    {
      "cell_type": "markdown",
      "source": [
        "4- With random or constant values:\n",
        "shape is a tuple of tensor dimensions. In the functions below, it determines the\n",
        "dimensionality of the output tensor.\n"
      ],
      "metadata": {
        "id": "f1vpoNZw4a3J"
      }
    },
    {
      "cell_type": "code",
      "source": [
        "#creating tensor with specific shape\n",
        "shape = (2, 3)\n",
        "rand_tensor = torch.rand(shape)\n",
        "ones_tensor = torch.ones(shape)\n",
        "\n",
        "zeros_tensor = torch.zeros(shape)\n",
        "print(f\"Random Tensor: \\n {rand_tensor} \\n\")\n",
        "print(f\"Ones Tensor: \\n {ones_tensor} \\n\")\n",
        "print(f\"Zeros Tensor: \\n {zeros_tensor}\")"
      ],
      "metadata": {
        "colab": {
          "base_uri": "https://localhost:8080/"
        },
        "id": "RHEvl1aD4drq",
        "outputId": "2236a612-4b69-40ac-c6c2-c9e58c69ca7b"
      },
      "execution_count": 55,
      "outputs": [
        {
          "output_type": "stream",
          "name": "stdout",
          "text": [
            "Random Tensor: \n",
            " tensor([[0.1288, 0.1913, 0.5230],\n",
            "        [0.7776, 0.0972, 0.1850]]) \n",
            "\n",
            "Ones Tensor: \n",
            " tensor([[1., 1., 1.],\n",
            "        [1., 1., 1.]]) \n",
            "\n",
            "Zeros Tensor: \n",
            " tensor([[0., 0., 0.],\n",
            "        [0., 0., 0.]])\n"
          ]
        }
      ]
    },
    {
      "cell_type": "markdown",
      "source": [
        "## Tensor Attributes"
      ],
      "metadata": {
        "id": "36tEu_V853qM"
      }
    },
    {
      "cell_type": "markdown",
      "source": [
        "Tensor attributes describe their shape, datatype, and the device on which they are\n",
        "stored.\n"
      ],
      "metadata": {
        "id": "v9l2NO0b57i8"
      }
    },
    {
      "cell_type": "code",
      "source": [
        "tensor = torch.rand(3, 4)   # populate a tensor of 3X4 matrix with random numbers\n",
        "print(tensor)\n",
        "\n",
        "print(f\"Shape of tensor: {tensor.shape}\")\n",
        "print(f\"Datatype of tensor: {tensor.dtype}\")\n",
        "print(f\"Device tensor is stored on: {tensor.device}\")     # names the running device ( CPU OR GPU )"
      ],
      "metadata": {
        "colab": {
          "base_uri": "https://localhost:8080/"
        },
        "id": "8PK_ozoP59OT",
        "outputId": "73f12eff-c256-4ae5-cb42-8f8d1acfba8f"
      },
      "execution_count": 56,
      "outputs": [
        {
          "output_type": "stream",
          "name": "stdout",
          "text": [
            "tensor([[0.1206, 0.9491, 0.7918, 0.9435],\n",
            "        [0.7063, 0.8431, 0.1646, 0.5455],\n",
            "        [0.6477, 0.0051, 0.5174, 0.2657]])\n",
            "Shape of tensor: torch.Size([3, 4])\n",
            "Datatype of tensor: torch.float32\n",
            "Device tensor is stored on: cpu\n"
          ]
        }
      ]
    },
    {
      "cell_type": "markdown",
      "source": [
        "## Tensor Operations"
      ],
      "metadata": {
        "id": "l7s7U4A-6AkY"
      }
    },
    {
      "cell_type": "markdown",
      "source": [
        "Over 100 tensor operations, including transposing, indexing, slicing, mathematical\n",
        "operations, linear algebra, random sampling, and more are described here.\n",
        "Each of them can be run on the GPU (at typically higher speeds than on a CPU). If\n",
        "you’re using Colab, allocate a GPU by going to Edit > Notebook Settings."
      ],
      "metadata": {
        "id": "X3NAoPTn6Cy9"
      }
    },
    {
      "cell_type": "code",
      "source": [
        "# We move our tensor to the GPU if available\n",
        "if torch.cuda.is_available():\n",
        "  print(\"GPU Accelerated \")\n",
        "  tensor = tensor.to('cuda')\n",
        "print(f\"Device tensor is stored on: {tensor.device}\")   # GPU not available\n"
      ],
      "metadata": {
        "colab": {
          "base_uri": "https://localhost:8080/"
        },
        "id": "1-jOdQL26EMp",
        "outputId": "171b1834-f10a-4880-e4a7-b46e21024afa"
      },
      "execution_count": 57,
      "outputs": [
        {
          "output_type": "stream",
          "name": "stdout",
          "text": [
            "Device tensor is stored on: cpu\n"
          ]
        }
      ]
    },
    {
      "cell_type": "markdown",
      "source": [
        "Try out some of the operations from the list. If you’re familiar with the NumPy\n",
        "API, you’ll find the Tensor API a breeze to use.\n"
      ],
      "metadata": {
        "id": "AQxtpU7KUvVE"
      }
    },
    {
      "cell_type": "markdown",
      "source": [
        "1. Standard numpy-like indexing and slicing:"
      ],
      "metadata": {
        "id": "sAeVxEc4Uwdz"
      }
    },
    {
      "cell_type": "code",
      "source": [
        "tensor = torch.ones(4, 4)    # 4X4 matrix populated with 1s\n",
        "tensor[:,1] = 0              # modifiy coloumn 1 and populate it with zeros ( simple indexing )\n",
        "print(tensor)\n"
      ],
      "metadata": {
        "colab": {
          "base_uri": "https://localhost:8080/"
        },
        "id": "6e-QURWwUyiz",
        "outputId": "dd40b14c-bcbe-4a61-cee7-fb47922dce8b"
      },
      "execution_count": 58,
      "outputs": [
        {
          "output_type": "stream",
          "name": "stdout",
          "text": [
            "tensor([[1., 0., 1., 1.],\n",
            "        [1., 0., 1., 1.],\n",
            "        [1., 0., 1., 1.],\n",
            "        [1., 0., 1., 1.]])\n"
          ]
        }
      ]
    },
    {
      "cell_type": "markdown",
      "source": [],
      "metadata": {
        "id": "s7b8YylQUyL7"
      }
    },
    {
      "cell_type": "markdown",
      "source": [
        "2- Joining tensors\n",
        "You can use torch.cat to concatenate a sequence of tensors along a given\n",
        "dimension. See also torch.stack, another tensor joining op that is subtly\n",
        "different from torch.cat."
      ],
      "metadata": {
        "id": "gH7DO5usVsHj"
      }
    },
    {
      "cell_type": "code",
      "source": [
        "print(tensor)\n",
        "\n",
        "t1 = torch.cat([tensor, tensor, tensor], dim=1)     # 1 -> horizontal concatenation ( based on columns) concatenate column by column\n",
        "print(t1)\n",
        "\n",
        "\n",
        "t1 = torch.cat([tensor, tensor, tensor], dim=0)     #  0 -> vertical concatenation ( based on rows) concatenate row by row\n",
        "print(t1)"
      ],
      "metadata": {
        "colab": {
          "base_uri": "https://localhost:8080/"
        },
        "id": "_3xY7IgIVuF6",
        "outputId": "e0c715e0-f9ad-48d1-99ae-0e30e58d60f0"
      },
      "execution_count": 59,
      "outputs": [
        {
          "output_type": "stream",
          "name": "stdout",
          "text": [
            "tensor([[1., 0., 1., 1.],\n",
            "        [1., 0., 1., 1.],\n",
            "        [1., 0., 1., 1.],\n",
            "        [1., 0., 1., 1.]])\n",
            "tensor([[1., 0., 1., 1., 1., 0., 1., 1., 1., 0., 1., 1.],\n",
            "        [1., 0., 1., 1., 1., 0., 1., 1., 1., 0., 1., 1.],\n",
            "        [1., 0., 1., 1., 1., 0., 1., 1., 1., 0., 1., 1.],\n",
            "        [1., 0., 1., 1., 1., 0., 1., 1., 1., 0., 1., 1.]])\n",
            "tensor([[1., 0., 1., 1.],\n",
            "        [1., 0., 1., 1.],\n",
            "        [1., 0., 1., 1.],\n",
            "        [1., 0., 1., 1.],\n",
            "        [1., 0., 1., 1.],\n",
            "        [1., 0., 1., 1.],\n",
            "        [1., 0., 1., 1.],\n",
            "        [1., 0., 1., 1.],\n",
            "        [1., 0., 1., 1.],\n",
            "        [1., 0., 1., 1.],\n",
            "        [1., 0., 1., 1.],\n",
            "        [1., 0., 1., 1.]])\n"
          ]
        }
      ]
    },
    {
      "cell_type": "markdown",
      "source": [
        "3. Multiplying tensors"
      ],
      "metadata": {
        "id": "zDfxnDLyVxcb"
      }
    },
    {
      "cell_type": "code",
      "source": [
        "# This computes the element-wise product\n",
        "print(tensor)\n",
        "\n",
        "\n",
        "\n",
        "print(f\"tensor.mul(tensor) \\n {tensor.mul(tensor)} \\n\")\n",
        "# Alternative syntax:\n",
        "print(f\"tensor * tensor \\n {tensor * tensor}\")"
      ],
      "metadata": {
        "colab": {
          "base_uri": "https://localhost:8080/"
        },
        "id": "7qUu8DPIVyub",
        "outputId": "61d2320e-6fee-44bf-fa60-b1743503fea7"
      },
      "execution_count": 60,
      "outputs": [
        {
          "output_type": "stream",
          "name": "stdout",
          "text": [
            "tensor([[1., 0., 1., 1.],\n",
            "        [1., 0., 1., 1.],\n",
            "        [1., 0., 1., 1.],\n",
            "        [1., 0., 1., 1.]])\n",
            "tensor.mul(tensor) \n",
            " tensor([[1., 0., 1., 1.],\n",
            "        [1., 0., 1., 1.],\n",
            "        [1., 0., 1., 1.],\n",
            "        [1., 0., 1., 1.]]) \n",
            "\n",
            "tensor * tensor \n",
            " tensor([[1., 0., 1., 1.],\n",
            "        [1., 0., 1., 1.],\n",
            "        [1., 0., 1., 1.],\n",
            "        [1., 0., 1., 1.]])\n"
          ]
        }
      ]
    },
    {
      "cell_type": "markdown",
      "source": [
        "This computes the matrix multiplication between two tensors"
      ],
      "metadata": {
        "id": "AUnuq7KQV0Zc"
      }
    },
    {
      "cell_type": "code",
      "source": [
        "print(f\"tensor.matmul(tensor.T) \\n {tensor.matmul(tensor.T)} \\n\")\n",
        "# Alternative syntax:\n",
        "print(f\"tensor @ tensor.T \\n {tensor @ tensor.T}\")"
      ],
      "metadata": {
        "colab": {
          "base_uri": "https://localhost:8080/"
        },
        "id": "GKtvFu42V1cS",
        "outputId": "c61450e7-fdf4-42a0-d4d8-6b92e3f7c1be"
      },
      "execution_count": 61,
      "outputs": [
        {
          "output_type": "stream",
          "name": "stdout",
          "text": [
            "tensor.matmul(tensor.T) \n",
            " tensor([[3., 3., 3., 3.],\n",
            "        [3., 3., 3., 3.],\n",
            "        [3., 3., 3., 3.],\n",
            "        [3., 3., 3., 3.]]) \n",
            "\n",
            "tensor @ tensor.T \n",
            " tensor([[3., 3., 3., 3.],\n",
            "        [3., 3., 3., 3.],\n",
            "        [3., 3., 3., 3.],\n",
            "        [3., 3., 3., 3.]])\n"
          ]
        }
      ]
    },
    {
      "cell_type": "markdown",
      "source": [
        "4. In-place operations\n",
        "Operations that have a suffix are in-place. For example: x.copy (y), x.t (),\n",
        "will change x"
      ],
      "metadata": {
        "id": "k0TeQirJV3e0"
      }
    },
    {
      "cell_type": "code",
      "source": [
        "print(tensor, \"\\n\")\n",
        "tensor.add_(5)      # add 5 to every matrix element\n",
        "print(tensor)"
      ],
      "metadata": {
        "colab": {
          "base_uri": "https://localhost:8080/"
        },
        "id": "PzewOVcxV4lT",
        "outputId": "4e3f89bf-dd94-4314-a245-e7b1b4da9c5c"
      },
      "execution_count": 62,
      "outputs": [
        {
          "output_type": "stream",
          "name": "stdout",
          "text": [
            "tensor([[1., 0., 1., 1.],\n",
            "        [1., 0., 1., 1.],\n",
            "        [1., 0., 1., 1.],\n",
            "        [1., 0., 1., 1.]]) \n",
            "\n",
            "tensor([[6., 5., 6., 6.],\n",
            "        [6., 5., 6., 6.],\n",
            "        [6., 5., 6., 6.],\n",
            "        [6., 5., 6., 6.]])\n"
          ]
        }
      ]
    },
    {
      "cell_type": "markdown",
      "source": [
        "## Bridge with NumPy"
      ],
      "metadata": {
        "id": "rHL0m6pBV6Q7"
      }
    },
    {
      "cell_type": "markdown",
      "source": [
        "Tensors on the CPU and NumPy arrays can share their underlying memory locations,\n",
        "and changing one will change the other.\n",
        "Tensor to NumPy array: A change in the tensor reflects in the NumPy array"
      ],
      "metadata": {
        "id": "PdbeknEjV8Qq"
      }
    },
    {
      "cell_type": "code",
      "source": [
        "t = torch.ones(5)\n",
        "print(f\"t: {t}\")\n",
        "n = t.numpy()\n",
        "print(f\"n: {n}\")\n",
        "t.add_(1)\n",
        "print(f\"t: {t}\")      # changed the tensor , updated the numpy -> same memory locations\n",
        "print(f\"n: {n}\")\n"
      ],
      "metadata": {
        "colab": {
          "base_uri": "https://localhost:8080/"
        },
        "id": "s8cnSbNAV9yl",
        "outputId": "3fe69c80-0eca-40fc-a630-cde5dc3261be"
      },
      "execution_count": 63,
      "outputs": [
        {
          "output_type": "stream",
          "name": "stdout",
          "text": [
            "t: tensor([1., 1., 1., 1., 1.])\n",
            "n: [1. 1. 1. 1. 1.]\n",
            "t: tensor([2., 2., 2., 2., 2.])\n",
            "n: [2. 2. 2. 2. 2.]\n"
          ]
        }
      ]
    },
    {
      "cell_type": "markdown",
      "source": [
        "NumPy array to Tensor: Changes in the NumPy array reflects in the tensor."
      ],
      "metadata": {
        "id": "4YS5EuTFV_Uc"
      }
    },
    {
      "cell_type": "code",
      "source": [
        "n = np.ones(5)\n",
        "t = torch.from_numpy(n)\n",
        "np.add(n, 1, out=n)\n",
        "print(f\"t: {t}\")\n",
        "print(f\"n: {n}\")\n"
      ],
      "metadata": {
        "colab": {
          "base_uri": "https://localhost:8080/"
        },
        "id": "UmsGpIPjWBKL",
        "outputId": "c9aaac69-a19b-48cf-ecd2-5a1050538afc"
      },
      "execution_count": 64,
      "outputs": [
        {
          "output_type": "stream",
          "name": "stdout",
          "text": [
            "t: tensor([2., 2., 2., 2., 2.], dtype=torch.float64)\n",
            "n: [2. 2. 2. 2. 2.]\n"
          ]
        }
      ]
    },
    {
      "cell_type": "markdown",
      "source": [
        "\n",
        "\n",
        "---\n",
        "\n"
      ],
      "metadata": {
        "id": "_TuquJC5WDQr"
      }
    },
    {
      "cell_type": "markdown",
      "source": [
        "# 1.2 A Gentle Introduction to torch.autograd"
      ],
      "metadata": {
        "id": "LhecNA9qWE5r"
      }
    },
    {
      "cell_type": "markdown",
      "source": [
        "torch.autograd is PyTorch’s automatic differentiation engine that powers neural\n",
        "network training. In this section, you will get a conceptual understanding of how\n",
        "autograd helps a neural network train."
      ],
      "metadata": {
        "id": "07J95xzJWHK8"
      }
    },
    {
      "cell_type": "markdown",
      "source": [
        "## Background"
      ],
      "metadata": {
        "id": "8A_olr39Xg_8"
      }
    },
    {
      "cell_type": "markdown",
      "source": [
        "Neural networks (NNs) are a collection of nested functions that are executed on some\n",
        "input data. These functions are defined by parameters (consisting of weights and\n",
        "biases), which in PyTorch are stored in tensors."
      ],
      "metadata": {
        "id": "k_iahZAHXk2M"
      }
    },
    {
      "cell_type": "markdown",
      "source": [
        "Training a NN happens in two steps:\n"
      ],
      "metadata": {
        "id": "12wUItaAXl_k"
      }
    },
    {
      "cell_type": "markdown",
      "source": [
        "- Forward Propagation: In forward prop, the NN makes its best guess about the correct\n",
        "output. It runs the input data through each of its functions to make this guess."
      ],
      "metadata": {
        "id": "6LHxky5NXnjU"
      }
    },
    {
      "cell_type": "markdown",
      "source": [
        "- Backward Propagation: In backprop, the NN adjusts its parameters proportionate to\n",
        "the error in its guess. It does this by traversing backwards from the output, collecting\n",
        "the derivatives of the error with respect to the parameters of the functions (gradients), and optimizing the parameters using gradient descent."
      ],
      "metadata": {
        "id": "pRqw13UCXo8c"
      }
    },
    {
      "cell_type": "markdown",
      "source": [
        "## Differentiation in Autograd"
      ],
      "metadata": {
        "id": "i3CbWpr6XtUL"
      }
    },
    {
      "cell_type": "markdown",
      "source": [
        "Let’s take a look at how autograd collects gradients. We create two tensors a and b\n",
        "with requires grad=True. This signals to autograd that every operation on them\n",
        "should be tracked."
      ],
      "metadata": {
        "id": "EzSuwZRxXvOc"
      }
    },
    {
      "cell_type": "code",
      "source": [
        "import torch\n",
        "a = torch.tensor([2., 3.], requires_grad=True)\n",
        "print(a)\n",
        "\n",
        "b = torch.tensor([6., 4.], requires_grad=True)\n",
        "print(b)"
      ],
      "metadata": {
        "colab": {
          "base_uri": "https://localhost:8080/"
        },
        "id": "iMi3GHMrXxgT",
        "outputId": "7bb6c747-3f08-4681-a94f-c47cd348c9ee"
      },
      "execution_count": 65,
      "outputs": [
        {
          "output_type": "stream",
          "name": "stdout",
          "text": [
            "tensor([2., 3.], requires_grad=True)\n",
            "tensor([6., 4.], requires_grad=True)\n"
          ]
        }
      ]
    },
    {
      "cell_type": "markdown",
      "source": [
        "We create another tensor Q from a and b.\n",
        "Q = 3a^3 − b^2"
      ],
      "metadata": {
        "id": "bMrtuXBcXzQT"
      }
    },
    {
      "cell_type": "code",
      "source": [
        "Q = 3*a**3 - b**2"
      ],
      "metadata": {
        "id": "TRKGKm60WGUM"
      },
      "execution_count": 66,
      "outputs": []
    },
    {
      "cell_type": "markdown",
      "source": [
        "Let’s assume a and b to be parameters of an NN, and Q to be the error. In NN\n",
        "training, we want gradients of the error w.r.t. parameters, i.e.\n",
        "![image.png](data:image/png;base64,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)"
      ],
      "metadata": {
        "id": "Fl15MWEgX7kD"
      }
    },
    {
      "cell_type": "markdown",
      "source": [
        "When we call .backward() on Q, autograd calculates these gradients and stores them\n",
        "in the respective tensors’ .grad attribute.\n",
        "We need to explicitly pass a gradient argument in Q.backward() because it is a\n",
        "vector. gradient is a tensor of the same shape as Q, and it represents the gradient\n",
        "of Q w.r.t. itself, i.e."
      ],
      "metadata": {
        "id": "wX5sznP4aT_L"
      }
    },
    {
      "cell_type": "markdown",
      "source": [
        "dQ /\n",
        "dQ = 1\n"
      ],
      "metadata": {
        "id": "hXdbtpgGaVgc"
      }
    },
    {
      "cell_type": "markdown",
      "source": [
        "Equivalently, we can also aggregate Q into a scalar and call backward implicitly, like\n",
        "Q.sum().backward()."
      ],
      "metadata": {
        "id": "J4WdXFsJaXvT"
      }
    },
    {
      "cell_type": "code",
      "source": [
        "external_grad = torch.tensor([1., 1.])\n",
        "Q.backward(gradient=external_grad)\n"
      ],
      "metadata": {
        "id": "unqMyXkgaZP8"
      },
      "execution_count": 67,
      "outputs": []
    },
    {
      "cell_type": "markdown",
      "source": [
        "Gradients are now deposited in a.grad and b.grad"
      ],
      "metadata": {
        "id": "fHA5xmG2aart"
      }
    },
    {
      "cell_type": "code",
      "source": [
        "# check if collected gradients are correct\n",
        "print(9*a**2 == a.grad)\n",
        "print(-2*b == b.grad)"
      ],
      "metadata": {
        "colab": {
          "base_uri": "https://localhost:8080/"
        },
        "id": "d_OxQiYTabqG",
        "outputId": "6f41cb88-779d-411b-ee18-12f4f02d8a79"
      },
      "execution_count": 68,
      "outputs": [
        {
          "output_type": "stream",
          "name": "stdout",
          "text": [
            "tensor([True, True])\n",
            "tensor([True, True])\n"
          ]
        }
      ]
    },
    {
      "cell_type": "markdown",
      "source": [
        "## Task 1\n",
        "Use autograd to compute the gradients of Y w.r.t. x1 and x2 at the point\n",
        "(x1, x2) = (1, 1). Where\n",
        "Y = (3x1 − 2x2 − 2)2\n",
        ".\n",
        "Verify your results by computing the gradients analytically"
      ],
      "metadata": {
        "id": "GOsTeR7pad9F"
      }
    },
    {
      "cell_type": "code",
      "source": [
        "x1 = torch.tensor(1.0, requires_grad=True)\n",
        "x2 = torch.tensor(1.0, requires_grad=True)\n",
        "\n",
        "\n",
        "#Function  Y = (3x1 − 2x2 − 2)^2\n",
        "Y = (3 * x1 - 2 * x2 - 2) ** 2\n",
        "\n",
        "\n",
        "\n",
        "external_grad = torch.tensor(1.)\n",
        "\n",
        "Y.backward(gradient=external_grad)\n",
        "\n",
        "\n",
        "\n",
        "grad_x1 = x1.grad\n",
        "grad_x2 = x2.grad\n",
        "\n",
        "print(grad_x1)\n",
        "print(grad_x2)\n",
        "\n",
        "\n",
        "# derevative based on x1 -> dy/dx1 = 2(u) -> 2(3x1 - 2x2 - 2 ) * 3 -> substituting x1 and x2 -> 2(3*1 * 2*1 - 2) * 3 =  -6\n",
        "# derevative based on x2 -> dy/dx2 = 2(u) -> 2(3x1 - 2x2 - 2 ) * -2 -> substituting x1 and x2 -> 2(3*1 * 2*1 - 2) * 3 =  4\n",
        "\n",
        "print(-6 ==  grad_x1)\n",
        "print(4 == grad_x2 )\n",
        "\n"
      ],
      "metadata": {
        "colab": {
          "base_uri": "https://localhost:8080/"
        },
        "id": "jR7IvBW6X7DD",
        "outputId": "8ec0bfee-c02c-4d46-b60b-996b339b968d"
      },
      "execution_count": 69,
      "outputs": [
        {
          "output_type": "stream",
          "name": "stdout",
          "text": [
            "tensor(-6.)\n",
            "tensor(4.)\n",
            "tensor(True)\n",
            "tensor(True)\n"
          ]
        }
      ]
    },
    {
      "cell_type": "markdown",
      "source": [
        "\n",
        "\n",
        "---\n",
        "\n"
      ],
      "metadata": {
        "id": "jU0mkpe0ljZW"
      }
    },
    {
      "cell_type": "markdown",
      "source": [
        "# 1.3 Building Models with PyTorch"
      ],
      "metadata": {
        "id": "xwNhR4bRlkFl"
      }
    },
    {
      "cell_type": "markdown",
      "source": [
        "Neural networks can be constructed using the torch.nn package. Now that you had\n",
        "a glimpse of autograd, nn depends on autograd to define models and differentiate\n",
        "them. An nn.Module contains layers, and a method forward(input) that returns\n",
        "the output"
      ],
      "metadata": {
        "id": "RDBlTdZdm1h-"
      }
    },
    {
      "cell_type": "markdown",
      "source": [
        "- Define the neural network that has some learnable parameters (or weights)\n",
        "- Iterate over a dataset of inputs\n",
        "- Process input through the network\n",
        "- Compute the loss (how far is the output from being correct)\n",
        "- Propagate gradients back into the network’s parameters\n",
        "- Update the weights of the network, typically using a simple update rule:\n",
        "weight = weight - learning rate * gradient\n"
      ],
      "metadata": {
        "id": "06YFjaQMm6Yt"
      }
    },
    {
      "cell_type": "markdown",
      "source": [
        "For example, look at this network that classifies digit images. It is a simple feedforward network. It takes the input, feeds it through two hidden layers one after the\n",
        "other, and then finally gives the output, which is 10 neurons each corresponds to a\n",
        "different class (digit 0, 1, ..., 9)."
      ],
      "metadata": {
        "id": "fuZ12o-6nK_t"
      }
    },
    {
      "cell_type": "markdown",
      "source": [
        "![image.png](data:image/png;base64,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)"
      ],
      "metadata": {
        "id": "4bw2VWednqlW"
      }
    },
    {
      "cell_type": "markdown",
      "source": [
        "Now, let’s build and train the MLP shown in Figure 1.2.\n"
      ],
      "metadata": {
        "id": "kUlMtOo7n5WW"
      }
    },
    {
      "cell_type": "markdown",
      "source": [
        "## **Define the network**\n"
      ],
      "metadata": {
        "id": "wyXXmNDnn7Em"
      }
    },
    {
      "cell_type": "code",
      "source": [
        "import torch\n",
        "import torch.nn as nn\n",
        "import torch.nn.functional as F\n",
        "\n",
        "class Net(nn.Module):\n",
        "\n",
        "  def __init__(self):\n",
        "    super(Net, self).__init__()\n",
        "    # an affine operation: y = Wx + b\n",
        "    # 784 is the input dimension, and 68 is the output dimenstion of the first hidden layer 7\n",
        "    self.fc1 = nn.Linear(784, 64)   #  input layer  (L1) :  input dimension ( 28 X 28 ) Layer 1 , output -> 64\n",
        "    self.fc2 = nn.Linear(64, 64)    #  hidden layer (L2) :  input 64 , output -> 64\n",
        "    self.fc3 = nn.Linear(64, 10)    #  hidden layer (L3) :  input 64 , output -> 10\n",
        "\n",
        "\n",
        "  def forward(self, x):\n",
        "    # apply the first layer with relu activation\n",
        "    x = F.relu(self.fc1(x))\n",
        "    x = F.relu(self.fc2(x))\n",
        "    x = self.fc3(x)\n",
        "    return x\n",
        "\n"
      ],
      "metadata": {
        "id": "VgrlhQfHn91d"
      },
      "execution_count": 70,
      "outputs": []
    },
    {
      "cell_type": "code",
      "source": [
        "net = Net()   # Creating a Network named net\n",
        "print(net)    # printing the network net layers"
      ],
      "metadata": {
        "colab": {
          "base_uri": "https://localhost:8080/"
        },
        "id": "s8Q2mhTNsDk9",
        "outputId": "3cf1d4c9-0fb1-4e52-9161-3cb66c8cbc24"
      },
      "execution_count": 71,
      "outputs": [
        {
          "output_type": "stream",
          "name": "stdout",
          "text": [
            "Net(\n",
            "  (fc1): Linear(in_features=784, out_features=64, bias=True)\n",
            "  (fc2): Linear(in_features=64, out_features=64, bias=True)\n",
            "  (fc3): Linear(in_features=64, out_features=10, bias=True)\n",
            ")\n"
          ]
        }
      ]
    },
    {
      "cell_type": "markdown",
      "source": [
        "You just have to define the forward function, and the backward function (where\n",
        "gradients are computed) is automatically defined for you using autograd. You can\n",
        "use any of the Tensor operations in the forward function.\n"
      ],
      "metadata": {
        "id": "vKAyODYUosGN"
      }
    },
    {
      "cell_type": "markdown",
      "source": [
        "The learnable parameters of a model are returned by net.parameters()"
      ],
      "metadata": {
        "id": "HZVKe5k7ovd1"
      }
    },
    {
      "cell_type": "code",
      "source": [
        "params = list(net.parameters())     # listing net network parameters in parmas list\n",
        "\n",
        "print(len(params))\n",
        "\n",
        "for p in params:                   # iterating through the parma list to print each parameter\n",
        "  print(p.size())"
      ],
      "metadata": {
        "colab": {
          "base_uri": "https://localhost:8080/"
        },
        "id": "1bYxvlTlowyl",
        "outputId": "872c863d-273d-46ec-d0d9-17142d11cf9d"
      },
      "execution_count": 72,
      "outputs": [
        {
          "output_type": "stream",
          "name": "stdout",
          "text": [
            "6\n",
            "torch.Size([64, 784])\n",
            "torch.Size([64])\n",
            "torch.Size([64, 64])\n",
            "torch.Size([64])\n",
            "torch.Size([10, 64])\n",
            "torch.Size([10])\n"
          ]
        }
      ]
    },
    {
      "cell_type": "markdown",
      "source": [
        "## Task 2\n",
        " Identify what are the parameters that are printed in the previous code.\n",
        "Let’s try a random input. Note: expected input size of this network is 784."
      ],
      "metadata": {
        "id": "GLKIWmI_o17l"
      }
    },
    {
      "cell_type": "code",
      "source": [
        "input = torch.randn(1, 784)   #1 row , 784 column\n",
        "print(input)\n",
        "\n",
        "\n",
        "\n",
        "out = net(input)\n",
        "print(out)\n",
        "\n",
        "\n",
        "params = list(net.parameters())\n",
        "print(len(params))\n",
        "for p in params:\n",
        "  print(p.size())\n"
      ],
      "metadata": {
        "colab": {
          "base_uri": "https://localhost:8080/"
        },
        "id": "52Dlc4eqqWMn",
        "outputId": "da63f3b2-fd7b-49b2-c94f-43d6cb442aba"
      },
      "execution_count": 73,
      "outputs": [
        {
          "output_type": "stream",
          "name": "stdout",
          "text": [
            "tensor([[-1.5644e-01,  2.4422e-01,  6.8366e-01, -2.4237e-01, -1.0256e+00,\n",
            "          2.6572e+00, -1.5470e+00,  1.9086e+00, -2.1135e+00, -3.2138e-01,\n",
            "          6.3049e-01,  6.8418e-01,  3.7508e-01,  9.5058e-01, -1.1998e+00,\n",
            "         -3.2131e-01,  5.6890e-01,  1.0873e+00,  1.5238e+00, -6.6307e-01,\n",
            "          1.7309e+00,  1.8818e+00, -1.2832e+00, -3.6782e-01,  6.7942e-01,\n",
            "          1.9930e-01, -1.2761e+00,  1.1912e+00,  7.8500e-01,  2.5205e-02,\n",
            "          4.2961e-01,  2.2485e+00,  1.4248e+00, -5.3870e-01, -9.5004e-01,\n",
            "          1.4138e+00, -1.8552e+00,  6.2149e-01,  4.3469e-01,  1.6151e+00,\n",
            "          6.6686e-01,  4.1813e-01,  1.1852e+00,  1.0959e+00,  2.0043e-01,\n",
            "          7.4349e-01,  2.2146e+00, -1.6097e-01,  3.1470e-01,  5.2031e-01,\n",
            "          2.9555e-02,  1.1213e+00, -3.7765e-01,  4.7366e-01, -3.1514e-02,\n",
            "          1.3454e+00, -6.9572e-01,  6.8218e-01, -9.6367e-02, -2.2325e-01,\n",
            "         -1.2152e+00,  1.1081e+00,  2.0107e-01, -2.6610e+00, -4.7480e-02,\n",
            "         -2.5967e+00,  8.0613e-01,  2.9315e-01, -8.1144e-01,  9.8621e-01,\n",
            "          1.9928e+00, -6.7016e-01, -3.4757e-01,  6.2116e-02, -2.4770e-01,\n",
            "         -2.9035e-01,  1.4056e+00, -2.3044e-01,  9.6565e-01, -5.8796e-01,\n",
            "         -6.8141e-01, -8.9775e-01, -2.6148e+00, -8.5035e-01, -7.9721e-01,\n",
            "          3.4646e-01, -7.3471e-01, -9.8028e-02,  2.6687e-01, -2.6188e-01,\n",
            "          1.5950e+00,  9.9639e-01,  7.6967e-01,  6.6008e-01, -2.2456e-01,\n",
            "         -6.0372e-01,  4.2294e-02, -3.0855e-01,  5.2922e-01, -4.9214e-01,\n",
            "         -1.5380e+00,  2.2141e+00, -1.6804e+00,  2.2571e+00, -1.7100e+00,\n",
            "          7.1380e-02, -6.3587e-01, -4.3141e-01,  6.7483e-02, -5.2712e-01,\n",
            "         -1.9017e-01,  8.6318e-01, -6.3269e-01,  4.0241e-01,  5.5038e-01,\n",
            "          7.2231e-01, -3.5495e-01,  2.4212e-01,  6.4435e-01,  2.1569e+00,\n",
            "         -3.3781e-01,  4.4262e-01,  2.8951e-01,  1.0060e+00, -1.0273e+00,\n",
            "         -3.2774e-01, -7.7895e-01,  1.3901e+00, -1.9863e+00,  1.9636e+00,\n",
            "         -3.8818e-02,  2.1655e-01,  9.0662e-01,  3.5237e-01,  5.0665e-01,\n",
            "          7.8616e-01,  3.6293e-02, -1.1183e+00,  3.9689e-01,  1.1907e-02,\n",
            "          7.3230e-01,  1.4484e+00,  2.1624e+00, -4.8024e-01, -4.4264e-01,\n",
            "         -2.0847e-02, -1.4213e+00,  1.0845e+00,  3.0868e-01,  1.5801e+00,\n",
            "          1.0278e+00, -3.1127e-01, -3.6178e-01,  1.7790e+00,  9.2474e-01,\n",
            "          4.9322e-01, -5.6817e-01, -5.9195e-01,  1.2721e+00,  2.1628e+00,\n",
            "          6.9029e-01,  1.2244e+00,  6.8097e-01,  3.2060e-01, -1.6818e+00,\n",
            "         -9.8786e-01,  2.3732e-01, -8.7223e-01, -2.5778e-01, -3.5865e-01,\n",
            "          1.1147e+00,  1.0627e+00,  3.2834e-01, -1.1457e+00,  4.7697e-01,\n",
            "         -9.1601e-01, -3.7479e-01, -8.6827e-01, -2.1255e-01,  1.8485e-01,\n",
            "         -6.8050e-01, -7.6081e-01, -2.3554e+00,  6.8684e-01, -1.2421e-01,\n",
            "         -1.5126e+00,  4.3551e-01, -3.2390e-01, -7.1805e-01,  1.5737e+00,\n",
            "          1.2906e+00, -1.1359e+00, -6.5304e-01,  1.8600e+00,  8.8386e-01,\n",
            "          1.1566e+00, -2.8198e-01, -8.8045e-01,  1.9729e-01,  3.2204e-01,\n",
            "          7.7905e-01,  1.4587e+00,  9.5375e-02,  2.0045e-01,  1.2237e+00,\n",
            "          1.3630e+00,  6.2782e-01, -4.2920e-01,  2.3866e+00,  8.5140e-01,\n",
            "         -8.2394e-01,  4.6007e-02, -9.1714e-01,  1.4752e+00, -1.9484e-01,\n",
            "         -4.7543e-01, -9.7484e-01, -1.0450e+00, -1.3996e+00,  2.8749e+00,\n",
            "          2.9672e+00,  1.4209e+00, -5.3407e-01,  1.3742e+00, -3.5721e-01,\n",
            "          8.4816e-01, -4.2845e-01,  4.6294e-01, -4.4594e-01,  5.0993e-01,\n",
            "         -4.3938e-01,  2.4036e-03, -1.4387e-02,  1.0742e+00, -1.6169e+00,\n",
            "          3.1424e-01,  1.4119e+00,  4.7344e-01,  3.1503e-01, -8.0425e-02,\n",
            "         -4.6121e-01,  5.4793e-01,  4.5355e-02, -3.0602e-01, -1.0123e+00,\n",
            "         -1.4103e+00,  3.9079e-01, -1.3330e+00,  5.5532e-01,  1.1953e-01,\n",
            "         -3.3905e-01, -9.2227e-01, -1.9680e-01,  1.7692e-01,  4.9427e-01,\n",
            "         -7.4224e-01,  1.8223e+00,  1.0470e+00, -4.5044e-01, -1.1912e+00,\n",
            "          3.0027e-01,  2.4627e-01, -1.4611e+00,  3.3486e-01, -3.3236e-01,\n",
            "         -8.9154e-01, -1.2702e+00, -1.8848e+00, -3.1553e-01,  7.4860e-01,\n",
            "         -2.0406e-01,  3.2559e-01, -6.9402e-01, -1.7535e+00, -1.3648e+00,\n",
            "          7.8187e-01,  4.9582e-01,  2.1497e-01,  6.4878e-01,  6.2865e-03,\n",
            "          1.8183e+00, -1.1634e+00, -8.4983e-01,  4.2008e-01,  8.8187e-01,\n",
            "         -4.6529e-01,  2.6977e-02,  9.1671e-01,  1.1117e+00,  1.3351e-01,\n",
            "          1.2168e+00,  2.1330e-01,  7.0289e-01, -1.2923e+00, -8.1353e-01,\n",
            "         -4.3255e-02,  1.0109e+00,  2.7428e-01,  1.3443e+00, -7.3501e-01,\n",
            "          3.5321e-01, -8.4698e-01, -1.5924e-01,  7.6344e-01,  8.0309e-01,\n",
            "          9.6237e-01,  5.9345e-02,  1.7925e-01,  9.8371e-01, -1.0696e-01,\n",
            "         -1.1696e+00, -1.3537e+00,  4.0646e-01, -4.5558e-01, -1.1772e+00,\n",
            "          2.9940e-01,  6.1269e-01, -1.5787e-01,  4.7948e-01,  2.8636e+00,\n",
            "          2.4575e-01,  6.3612e-01, -1.2901e+00,  1.0434e+00,  2.4850e+00,\n",
            "         -1.3436e-01, -1.0612e+00, -3.1578e-01,  2.9428e-02, -6.3136e-01,\n",
            "         -3.6161e-01,  4.3607e-01, -4.5156e-01,  4.8314e-01,  1.3311e+00,\n",
            "          1.4095e+00,  9.2828e-01,  7.0636e-01,  6.9168e-01, -1.5542e+00,\n",
            "         -9.0382e-01,  8.6465e-02, -3.1788e-01,  6.5200e-01,  1.7669e+00,\n",
            "         -6.3594e-01, -4.1854e-01,  3.1447e-01, -2.7441e-01,  1.1961e+00,\n",
            "          3.9655e-01, -3.6652e-01,  3.4703e-01,  5.1015e-02,  3.1178e-02,\n",
            "         -1.9550e-01,  2.7162e-01,  7.1877e-01, -6.1812e-01, -2.8657e-01,\n",
            "          7.2045e-01, -7.6790e-01, -9.5278e-01,  4.7772e-01, -1.1064e+00,\n",
            "         -1.7098e-01, -2.1383e+00,  3.6963e-01, -6.0060e-01,  6.8593e-01,\n",
            "          7.7968e-01,  1.6504e+00,  4.8315e-01,  1.8133e+00,  6.6331e-01,\n",
            "          1.2801e-01, -2.7900e-01, -1.1361e+00,  7.6122e-01,  1.3389e-01,\n",
            "          6.7091e-02, -1.8021e+00,  9.0484e-01, -2.0581e+00, -4.9966e-01,\n",
            "          4.8237e-01,  1.4137e+00, -7.9583e-01, -3.2214e-01,  7.6208e-01,\n",
            "         -1.0902e+00,  6.4369e-01,  1.5731e+00,  7.5566e-01,  1.0307e+00,\n",
            "          1.6246e+00, -5.6378e-02, -6.3535e-03,  1.2604e+00, -4.1132e-01,\n",
            "          7.3960e-01, -8.9374e-01,  5.1978e-01, -1.5807e+00, -1.0893e+00,\n",
            "          8.0755e-01, -4.3735e-01,  2.0511e+00,  3.4365e-01,  1.2522e+00,\n",
            "          8.8402e-01, -1.9300e-01, -1.2757e+00, -8.3374e-01,  8.7800e-02,\n",
            "         -1.6323e+00,  1.0263e-01, -2.9368e-01, -5.7024e-01, -2.4845e+00,\n",
            "         -1.9092e-02,  1.5756e-01,  3.6623e-01, -6.3337e-01, -7.0689e-01,\n",
            "         -3.1550e-01,  3.3204e+00,  8.1134e-02, -2.3787e-01,  1.7762e-01,\n",
            "         -5.4795e-02, -1.0256e+00,  6.8361e-01, -4.2631e-01, -2.0951e+00,\n",
            "          1.0474e+00, -1.2346e-01,  4.9987e-01,  2.0119e+00, -2.8555e-01,\n",
            "          1.6195e-01, -6.2480e-01,  7.9571e-01,  2.4908e-01, -4.2343e-01,\n",
            "         -8.4759e-01,  1.0836e+00,  1.1124e+00,  1.2382e+00,  1.0734e+00,\n",
            "         -1.0076e-01,  1.1880e-01,  1.5471e-01,  1.0309e+00, -1.5134e+00,\n",
            "         -7.9573e-01, -7.6060e-01,  1.5473e+00, -1.9616e-01,  6.4838e-01,\n",
            "         -2.0060e+00,  8.9635e-01,  2.1130e+00,  3.8838e-01, -8.7368e-01,\n",
            "          1.2969e-01,  1.6046e+00,  1.2199e-01,  1.8586e-01,  1.2102e+00,\n",
            "          2.8221e+00, -1.1972e+00,  8.2804e-01,  3.9473e-01,  6.0619e-01,\n",
            "          1.1348e+00,  1.2579e-01,  6.8191e-01, -6.0535e-01, -1.2638e-02,\n",
            "         -4.7278e-01, -6.7882e-01, -7.4928e-01, -8.6917e-01, -1.6354e+00,\n",
            "          9.8619e-01,  8.6211e-01, -3.8253e-01,  1.0478e+00,  1.4797e-02,\n",
            "         -2.9933e+00,  2.2751e-01, -2.8606e-01, -1.0031e+00, -5.7762e-01,\n",
            "          3.8593e-01,  4.6366e-01, -7.7176e-01, -1.8611e-01,  4.1334e-01,\n",
            "          7.0645e-01, -6.5341e-01,  5.4491e-01,  8.2153e-01, -4.7509e-01,\n",
            "         -1.3536e+00, -2.7179e+00,  9.9414e-01,  6.0942e-02, -9.3173e-01,\n",
            "          1.2666e+00, -3.3862e-02, -1.2081e+00,  2.3074e-01,  1.0690e+00,\n",
            "         -1.3428e+00, -5.2602e-02,  3.3847e-01, -4.6823e-01,  2.3644e-01,\n",
            "         -2.6549e-02, -8.9244e-01, -1.4602e-01,  1.8807e+00, -3.3437e-01,\n",
            "          1.1777e+00,  1.2610e+00,  1.0819e-01, -7.5740e-01, -3.7992e-02,\n",
            "          5.3378e-01, -2.8669e-02,  1.2124e+00,  5.4959e-01, -1.1743e+00,\n",
            "         -1.8995e+00, -9.0292e-01,  8.0859e-01, -1.5448e+00, -8.3774e-01,\n",
            "          6.7228e-01, -1.3810e+00,  1.5794e+00, -1.2511e+00,  7.6739e-01,\n",
            "         -1.3829e+00, -5.4399e-01,  1.8188e-01, -4.1476e-01,  3.1446e-05,\n",
            "          2.1506e+00,  1.4531e+00, -1.2180e+00,  6.5922e-02,  4.7308e-01,\n",
            "         -1.4271e-01, -5.8631e-01, -6.4639e-01, -5.6602e-01,  5.9926e-01,\n",
            "          4.5819e-01,  1.3013e+00,  4.3592e-02,  7.4485e-01,  7.6871e-01,\n",
            "         -4.3481e-01, -1.8089e+00,  7.8329e-01, -1.7596e-01,  1.4222e+00,\n",
            "          4.8164e-01, -3.7690e-01,  1.5066e-01,  1.0734e+00,  2.2029e-01,\n",
            "          4.0783e-01,  8.4121e-01, -6.8053e-01,  5.9499e-01, -4.0206e-01,\n",
            "          1.5817e-01, -5.9075e-01, -4.2105e-01, -1.8100e-01, -4.2259e-01,\n",
            "         -1.2380e+00, -1.5448e+00, -4.6460e-01, -1.6469e-01, -5.3500e-01,\n",
            "         -8.7661e-01,  1.1887e+00, -5.5692e-01, -1.6897e+00,  6.6922e-02,\n",
            "          8.9787e-02,  1.5413e+00, -3.4769e-01,  7.0076e-01,  4.2129e-01,\n",
            "         -5.7870e-01,  6.6060e-01, -8.9870e-01,  1.4235e+00, -5.1347e-01,\n",
            "          1.2038e-02,  1.6241e+00, -2.5880e-01, -9.6274e-01, -5.3415e-01,\n",
            "          1.2095e+00, -1.5888e+00, -1.2954e+00,  5.2274e-01,  1.6276e-01,\n",
            "          2.4960e+00, -1.7665e+00,  1.2640e+00, -1.2840e+00,  1.5650e+00,\n",
            "          1.3903e+00,  1.5914e+00,  1.4258e+00,  5.5548e-01,  6.5112e-01,\n",
            "         -1.5049e+00,  4.2929e-03, -3.3254e-01, -1.0331e+00,  1.3768e+00,\n",
            "          1.9562e+00,  8.5909e-01, -5.9407e-01, -6.3976e-01,  1.6329e+00,\n",
            "         -1.6389e-01,  4.4255e-01, -1.0547e-01, -6.4351e-01,  6.8884e-01,\n",
            "         -2.3851e-01,  2.4471e+00, -1.5926e-01,  4.4767e-01, -8.2889e-02,\n",
            "          1.6328e+00,  3.8538e-01, -1.3608e+00,  1.0013e-01, -4.9628e-01,\n",
            "          5.0419e-01, -4.0453e-01,  1.2566e+00,  9.5015e-01,  1.1629e+00,\n",
            "          8.1994e-01, -6.1526e-01, -1.7514e+00,  1.0737e+00,  6.3671e-01,\n",
            "          5.3670e-01,  1.0525e+00,  1.1886e+00, -1.3125e-01, -8.1579e-01,\n",
            "         -8.1363e-01, -5.6904e-01, -4.9769e-01, -1.7166e-01, -4.1706e-01,\n",
            "         -1.3565e+00,  3.2715e-01,  2.7245e-01,  1.1949e+00,  1.4869e+00,\n",
            "         -2.7885e-01,  1.1325e+00, -4.5651e-01,  1.0954e-01,  1.2262e+00,\n",
            "         -8.1533e-01,  2.3427e-01,  1.0636e+00, -2.3244e-01, -1.5401e+00,\n",
            "          6.2369e-01, -2.8504e-01,  1.0363e+00,  7.4728e-01, -1.9810e+00,\n",
            "          1.1295e+00, -1.1480e-01,  2.8619e-01,  5.7390e-01,  1.1856e+00,\n",
            "          1.2585e+00,  5.9056e-01,  1.1902e+00, -1.2943e-01,  8.4768e-01,\n",
            "          4.6953e-01, -6.9850e-01,  9.4089e-01, -4.7577e-01, -4.5565e-02,\n",
            "          1.3842e+00, -1.1740e+00,  2.0641e+00,  3.8578e-01,  7.1206e-01,\n",
            "          9.5904e-01,  1.9191e-01,  5.0572e-01,  2.8044e-02, -4.5049e-01,\n",
            "         -2.6672e-01,  3.5915e-01, -4.3239e-03,  6.5277e-01,  7.1464e-01,\n",
            "         -9.8254e-01,  1.2774e+00, -7.2379e-02, -1.8755e+00, -1.0914e+00,\n",
            "          1.2614e+00, -9.2005e-01,  4.8608e-01, -9.7997e-01,  4.9184e-01,\n",
            "          6.4755e-01, -7.5757e-01, -1.7636e+00, -1.0312e+00, -8.1376e-01,\n",
            "          1.4515e+00, -9.0761e-01, -1.9817e-02, -4.6897e-01,  1.0545e+00,\n",
            "          1.4246e-01,  5.7837e-01,  8.6796e-01,  1.7557e+00,  1.6626e-01,\n",
            "         -2.5071e-01, -1.1539e+00, -3.9830e-01,  2.9633e-02, -7.0947e-02,\n",
            "          8.7810e-01, -1.1326e+00,  7.7706e-01,  1.5142e+00,  3.5487e-01,\n",
            "         -2.1395e+00, -4.1211e-01, -2.2548e-01, -7.1675e-01, -7.1094e-01,\n",
            "          8.8281e-01, -2.9502e-01, -8.3136e-01,  1.3478e-01,  1.0072e-01,\n",
            "          1.2754e+00, -1.8269e+00,  4.8365e-01,  2.7709e-01, -5.0868e-01,\n",
            "          1.2746e+00, -1.9435e-01,  1.7616e+00, -1.2427e+00, -1.5262e+00,\n",
            "         -1.2752e+00, -1.3251e-01, -1.7972e+00, -1.6311e+00,  2.0206e+00,\n",
            "          1.2735e+00,  6.3505e-01, -5.7399e-02,  4.3225e-01]])\n",
            "tensor([[-0.1188, -0.0582,  0.0156, -0.0327,  0.0689,  0.0507, -0.1797, -0.0165,\n",
            "         -0.0118,  0.0373]], grad_fn=<AddmmBackward0>)\n",
            "6\n",
            "torch.Size([64, 784])\n",
            "torch.Size([64])\n",
            "torch.Size([64, 64])\n",
            "torch.Size([64])\n",
            "torch.Size([10, 64])\n",
            "torch.Size([10])\n"
          ]
        }
      ]
    },
    {
      "cell_type": "markdown",
      "source": [
        "The output is the same as above , meaning that the input is suitable for the network"
      ],
      "metadata": {
        "id": "7NMImfJsuexe"
      }
    },
    {
      "cell_type": "markdown",
      "source": [
        "Note that torch.nn only supports mini-batches. The entire torch.nn package only\n",
        "supports inputs that are a mini-batch of samples, and not a single sample. That’s\n",
        "the reason why we add an additional dimension for the input tensor."
      ],
      "metadata": {
        "id": "cZE36UwLrUNm"
      }
    },
    {
      "cell_type": "markdown",
      "source": [
        "## Task 3\n",
        "Try the previous network with a random mini-batch of size 4 and print its\n",
        "output."
      ],
      "metadata": {
        "id": "WuzjaacyrVw1"
      }
    },
    {
      "cell_type": "code",
      "source": [
        "input_mini_4 = torch.randn(4 , 784)   # creating a random mini 4 batch\n",
        "\n",
        "\n",
        "output_mini_4 = net(input_mini_4)     # assiging the mini batch as an input to the network net\n",
        "\n",
        "\n",
        "print(output_mini_4)                  # printing the output\n",
        "\n",
        "\n",
        "\n",
        "params = list(net.parameters())\n",
        "print(len(params))\n",
        "for p in params:\n",
        "  print(p.size())\n"
      ],
      "metadata": {
        "colab": {
          "base_uri": "https://localhost:8080/"
        },
        "id": "OWI7q19qvpmd",
        "outputId": "d7986b1d-20e8-454f-e661-849166e655a2"
      },
      "execution_count": 74,
      "outputs": [
        {
          "output_type": "stream",
          "name": "stdout",
          "text": [
            "tensor([[-0.1394, -0.2436,  0.0619, -0.0943,  0.0694,  0.3372, -0.1682,  0.0910,\n",
            "          0.0170,  0.0817],\n",
            "        [-0.1516, -0.1006,  0.0338, -0.1767,  0.0737,  0.0936, -0.1834,  0.0343,\n",
            "         -0.0476,  0.0548],\n",
            "        [-0.0227, -0.1501,  0.0487, -0.0653,  0.0297,  0.2543, -0.2369, -0.0262,\n",
            "          0.0949, -0.0878],\n",
            "        [-0.1717, -0.0652,  0.0836, -0.0495,  0.0033,  0.1794, -0.2340, -0.0024,\n",
            "          0.0192,  0.0486]], grad_fn=<AddmmBackward0>)\n",
            "6\n",
            "torch.Size([64, 784])\n",
            "torch.Size([64])\n",
            "torch.Size([64, 64])\n",
            "torch.Size([64])\n",
            "torch.Size([10, 64])\n",
            "torch.Size([10])\n"
          ]
        }
      ]
    },
    {
      "cell_type": "markdown",
      "source": [
        "## Define a Loss function and optimizer"
      ],
      "metadata": {
        "id": "UkqQDDjgwi-m"
      }
    },
    {
      "cell_type": "markdown",
      "source": [
        "As we have a classification task, let’s use a Classification Cross-Entropy (CE) loss,\n",
        "where\n",
        "\n",
        "\n",
        "\n"
      ],
      "metadata": {
        "id": "c7bhm2cFwlX_"
      }
    },
    {
      "cell_type": "markdown",
      "source": [
        "![image.png](data:image/png;base64,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)"
      ],
      "metadata": {
        "id": "c3nPoKDEwtWX"
      }
    },
    {
      "cell_type": "markdown",
      "source": [
        "where y is the one-hot encoding of the target class, ˆy is the predicted probabilities of\n",
        "the network, and C is the number of classes.\n",
        "For the optimizer, we will use a simple stochastic gradient descent (SGD) optimizer,\n",
        "which has a simple update rule: weight = weight - learning rate * gradient"
      ],
      "metadata": {
        "id": "YgIojtNVwwRH"
      }
    },
    {
      "cell_type": "code",
      "source": [
        "import torch.optim as optim\n",
        "\n",
        "loss = nn.CrossEntropyLoss()       # loss fucntion setup with Cross Entropy Loss ( calculates the difference between the predicted output (logits) of the network and the actual labels (target classes)\n",
        "\n",
        "\n",
        "optimizer = optim.SGD(net.parameters(), lr=0.001)     # optimizer setup with learning rate set to 0.001\n",
        "# used for updating the weights and biases of the network\n",
        "\n",
        "\n",
        "\n"
      ],
      "metadata": {
        "id": "71LgKs8xwyLP"
      },
      "execution_count": 75,
      "outputs": []
    },
    {
      "cell_type": "markdown",
      "source": [
        "Note that the input to nn.CrossEntropyLoss() is expected to contain the unnormalized logits for each class. That’s why we do not use softmax activation for the\n",
        "last layer of the network.\n"
      ],
      "metadata": {
        "id": "dkQJMw63w0en"
      }
    },
    {
      "cell_type": "markdown",
      "source": [
        "**What about data?**"
      ],
      "metadata": {
        "id": "Yk2WbpCaw2SX"
      }
    },
    {
      "cell_type": "markdown",
      "source": [
        "To train the network, you need to iterate over your dataset and feed it to the network\n",
        "as mini-batches in the training loop. PyTorch provides two classes to make this\n",
        "process easier: Dataset and Dataloader. The Dataset and DataLoader classes\n",
        "encapsulate the process of pulling your data from storage and exposing it to your\n",
        "training loop in batches.\n",
        "The Dataset is responsible for accessing and processing single instances of data. The\n",
        "DataLoader pulls instances of data from the Dataset (either automatically or with a\n",
        "sampler that you define), collects them in batches, and returns them for consumption\n",
        "by your training loop. The DataLoader works with all kinds of datasets, regardless\n",
        "of the type of data they contain.\n",
        "PyTorch domain libraries provide a number of pre-loaded datasets (such as MNIST)\n",
        "that subclass torch.utils.data.Dataset and implement functions specific to the\n",
        "particular data. They can be used to prototype and benchmark your model. In this\n",
        "experiment, we will use the MNIST dataset, which contains images of handwritten\n",
        "digits. It has a training set of 60,000 examples, and a test set of 10,000 examples.\n",
        "Each example comprises a 28×28 grayscale image and an associated label from one\n",
        "of 10 classes (digit 0, 1, ..., 9).\n"
      ],
      "metadata": {
        "id": "GHE4h5Gzw4KX"
      }
    },
    {
      "cell_type": "markdown",
      "source": [
        "## **Loading a Dataset**"
      ],
      "metadata": {
        "id": "dkbW4z9dw5kH"
      }
    },
    {
      "cell_type": "markdown",
      "source": [
        "Here is an example of how to load the MNIST dataset from TorchVision.\n",
        "We load the MNIST Dataset with the following parameters:"
      ],
      "metadata": {
        "id": "exdYfB8pw7IH"
      }
    },
    {
      "cell_type": "markdown",
      "source": [
        "\n",
        "\n",
        "-  root is the path where the train/test data is stored.\n",
        "\n",
        "- train specifies training or test dataset.\n",
        "- download=True downloads the data from the internet if it’s not available at\n",
        "root.\n",
        "- transform and target transform specify the feature and label transformations.\n",
        "\n"
      ],
      "metadata": {
        "id": "LQRlc_F7w8V3"
      }
    },
    {
      "cell_type": "code",
      "source": [
        "import torch\n",
        "from torch.utils.data import Dataset\n",
        "from torchvision import datasets\n",
        "from torchvision.transforms import ToTensor\n",
        "import matplotlib.pyplot as plt\n",
        "\n",
        "training_data = datasets.MNIST(\n",
        "root=\"data\",              # path where the data is stored\n",
        "train=True,               # type of data ( true for training  | false for  testing  )\n",
        "download=True,            # download to the current machine\n",
        "transform=ToTensor()      # performing transformation on the loaded data set like  normalization, scaling, cropping\n",
        ")\n",
        "\n",
        "\n",
        "test_data = datasets.MNIST(\n",
        "root=\"data\",\n",
        "train=False,\n",
        "download=True,\n",
        "transform=ToTensor()\n",
        ")\n"
      ],
      "metadata": {
        "id": "aMVtPhmixDgy"
      },
      "execution_count": 76,
      "outputs": []
    },
    {
      "cell_type": "markdown",
      "source": [
        "## **Iterating and Visualizing the Dataset**"
      ],
      "metadata": {
        "id": "R0xqGybVxmLP"
      }
    },
    {
      "cell_type": "markdown",
      "source": [
        "We can index Datasets manually like a list: training data[index]. We use matplotlib\n",
        "to visualize some samples in our training data."
      ],
      "metadata": {
        "id": "k9QJVwCsxn5_"
      }
    },
    {
      "cell_type": "code",
      "source": [
        "figure = plt.figure(figsize=(8, 8))\n",
        "cols, rows = 3, 3\n",
        "for i in range(1, cols * rows + 1):\n",
        "  sample_idx = torch.randint(len(training_data), size=(1,)).item()    # picking a random sample from the dataset\n",
        "  img, label = training_data[sample_idx]\n",
        "  figure.add_subplot(rows, cols, i)\n",
        "  plt.title(\"digit:\" + str(label))\n",
        "  plt.axis(\"off\")\n",
        "  plt.imshow(img.squeeze(), cmap=\"gray\")\n",
        "plt.show()"
      ],
      "metadata": {
        "colab": {
          "base_uri": "https://localhost:8080/",
          "height": 675
        },
        "id": "1FX9Wk8Sxpyg",
        "outputId": "3ade0457-59a5-4c45-d54a-76ddb0e4e4df"
      },
      "execution_count": 77,
      "outputs": [
        {
          "output_type": "display_data",
          "data": {
            "text/plain": [
              "<Figure size 800x800 with 9 Axes>"
            ],
            "image/png": "[encoded data removed]"
          },
          "metadata": {}
        }
      ]
    },
    {
      "cell_type": "markdown",
      "source": [
        "## **Preparing your data for training with DataLoaders**\n",
        "\n"
      ],
      "metadata": {
        "id": "dGs2nYx4xxJ2"
      }
    },
    {
      "cell_type": "markdown",
      "source": [
        "The Dataset retrieves our dataset’s features and labels one sample at a time. While\n",
        "training a model, we typically want to pass samples in “minibatches”, reshuffle the\n",
        "data at every epoch to reduce model overfitting, and use Python’s multiprocessing\n",
        "to speed up data retrieval.\n",
        "DataLoader is an iterable that abstracts this complexity for us in an easy API."
      ],
      "metadata": {
        "id": "1FhIRE1jx3PX"
      }
    },
    {
      "cell_type": "code",
      "source": [
        "from torch.utils.data import DataLoader\n",
        "\n",
        "train_dataloader = DataLoader(training_data, batch_size=4, shuffle=True)\n",
        "print(len(training_data))\n",
        "print(len(train_dataloader))\n",
        "\n",
        "test_dataloader = DataLoader(test_data, batch_size=4, shuffle=True)"
      ],
      "metadata": {
        "colab": {
          "base_uri": "https://localhost:8080/"
        },
        "id": "C6eTacwtx5Qe",
        "outputId": "05517c0d-99a5-4c44-c423-286331550bcf"
      },
      "execution_count": 78,
      "outputs": [
        {
          "output_type": "stream",
          "name": "stdout",
          "text": [
            "60000\n",
            "15000\n"
          ]
        }
      ]
    },
    {
      "cell_type": "markdown",
      "source": [
        "## **Iterate through the DataLoader**"
      ],
      "metadata": {
        "id": "o4IXEopDyEYo"
      }
    },
    {
      "cell_type": "markdown",
      "source": [
        "We have loaded that dataset into the DataLoader and can iterate through the dataset\n",
        "as needed. Each iteration below returns a batch of train features and train labels\n",
        "(containing batch size=4 features and labels respectively). Because we specified\n",
        "shuffle=True, after we iterate over all batches the data is shuffled.\n"
      ],
      "metadata": {
        "id": "9aRvtCqVyGb3"
      }
    },
    {
      "cell_type": "code",
      "source": [
        "# Display image and label.\n",
        "train_features, train_labels = next(iter(train_dataloader))\n",
        "\n",
        "print(f\"Feature batch shape: {train_features.size()}\")\n",
        "print(f\"Labels batch shape: {train_labels.size()}\")\n",
        "\n",
        "img = train_features[0].squeeze()\n",
        "label = train_labels[0]\n",
        "plt.imshow(img, cmap=\"gray\")\n",
        "plt.show()\n",
        "print(f\"Label: {label}\")"
      ],
      "metadata": {
        "colab": {
          "base_uri": "https://localhost:8080/",
          "height": 485
        },
        "id": "vBFBxmVdyIEm",
        "outputId": "d3892bd7-5617-4aca-99e3-e105bb1c7811"
      },
      "execution_count": 79,
      "outputs": [
        {
          "output_type": "stream",
          "name": "stdout",
          "text": [
            "Feature batch shape: torch.Size([4, 1, 28, 28])\n",
            "Labels batch shape: torch.Size([4])\n"
          ]
        },
        {
          "output_type": "display_data",
          "data": {
            "text/plain": [
              "<Figure size 640x480 with 1 Axes>"
            ],
            "image/png": "[encoded data removed]"
          },
          "metadata": {}
        },
        {
          "output_type": "stream",
          "name": "stdout",
          "text": [
            "Label: 5\n"
          ]
        }
      ]
    },
    {
      "cell_type": "markdown",
      "source": [
        "## Train the network\n"
      ],
      "metadata": {
        "id": "sjhFLEbykr93"
      }
    },
    {
      "cell_type": "code",
      "source": [
        "for epoch in range(2): # loop over the dataset multiple times\n",
        "  running_loss = 0.0\n",
        "  for i, data in enumerate(train_dataloader, 0):\n",
        "    # get the inputs; data is a list of [inputs, labels]\n",
        "    inputs, labels = data\n",
        "    # zero the parameter gradients\n",
        "    optimizer.zero_grad()\n",
        "    # forward + backward + optimize\n",
        "    outputs = net(torch.flatten(inputs,1))\n",
        "    iteration_loss = loss(outputs, labels)\n",
        "    iteration_loss.backward()\n",
        "    optimizer.step()\n",
        "    # print statistics\n",
        "    running_loss += iteration_loss.item()\n",
        "    if i % 2000 == 1999: # print every 2000 mini-batches\n",
        "      print(f'[{epoch + 1}, {i + 1:5d}] loss: {running_loss / 2000:.3f}')\n",
        "      running_loss = 0.0\n",
        "print('Finished Training')\n"
      ],
      "metadata": {
        "colab": {
          "base_uri": "https://localhost:8080/"
        },
        "id": "Vsu4xskXkvTb",
        "outputId": "f4262b07-2301-4369-a1d1-d4768196a39d"
      },
      "execution_count": 80,
      "outputs": [
        {
          "output_type": "stream",
          "name": "stdout",
          "text": [
            "[1,  2000] loss: 2.288\n",
            "[1,  4000] loss: 2.205\n",
            "[1,  6000] loss: 1.964\n",
            "[1,  8000] loss: 1.451\n",
            "[1, 10000] loss: 0.986\n",
            "[1, 12000] loss: 0.749\n",
            "[1, 14000] loss: 0.627\n",
            "[2,  2000] loss: 0.518\n",
            "[2,  4000] loss: 0.494\n",
            "[2,  6000] loss: 0.451\n",
            "[2,  8000] loss: 0.408\n",
            "[2, 10000] loss: 0.396\n",
            "[2, 12000] loss: 0.399\n",
            "[2, 14000] loss: 0.398\n",
            "Finished Training\n"
          ]
        }
      ]
    },
    {
      "cell_type": "markdown",
      "source": [
        "\n",
        "\n",
        "---\n",
        "\n"
      ],
      "metadata": {
        "id": "htb-8XUJ1S_3"
      }
    },
    {
      "cell_type": "markdown",
      "source": [
        "## Task 4\n",
        "What is the meaning of epoch, forward pass, backward pass. What is\n",
        "the effect of torch.flatten(inputs, 1), and optimizer.step()?\n"
      ],
      "metadata": {
        "id": "9IclsoFF2EN3"
      }
    },
    {
      "cell_type": "markdown",
      "source": [
        "\n",
        "\n",
        "---\n",
        "\n"
      ],
      "metadata": {
        "id": "CjQx8TZr5Paf"
      }
    },
    {
      "cell_type": "markdown",
      "source": [
        "**Epoch is like the number of the current iteration of the data set batch , where the number of Epoch indicates how many time the model or network gets to train from the dataset**"
      ],
      "metadata": {
        "id": "THDOi85f27G4"
      }
    },
    {
      "cell_type": "markdown",
      "source": [
        "**forward pass is the operation of sending the input into the network to obtain sight on the predicitons , the operation involves in passing the weight and biase into the activiation function and the output of this fucntion is the prediciton output of the network.**"
      ],
      "metadata": {
        "id": "bnoNdNZc3OO6"
      }
    },
    {
      "cell_type": "markdown",
      "source": [
        "**Backward pass (Backpropagation) is  a process to compute the gradient or change of the network parameters ( weight and biase ) in order to update them through the training process , this process starts with computing the loss fucntion , then the process keeps going backward , this process is important for adjusting the parameters through the training process .**"
      ],
      "metadata": {
        "id": "vpRH1de14kQ_"
      }
    },
    {
      "cell_type": "markdown",
      "source": [
        "**effects of torch.flatten(inputs, 1) : this proceds the forward pass by passing into the created netowrk net a flattened input starting with second dimenstion  , to recive a output prediction .**"
      ],
      "metadata": {
        "id": "pfZnITLb5eGn"
      }
    },
    {
      "cell_type": "markdown",
      "source": [
        "**effects of optimizer.step() : is updating the network parameters ( weights and biases ) based on the result of the gradient from the backward pass .**"
      ],
      "metadata": {
        "id": "gsThDrZoSdhN"
      }
    },
    {
      "cell_type": "markdown",
      "source": [
        "\n",
        "\n",
        "---\n",
        "\n"
      ],
      "metadata": {
        "id": "Cf5K933e5QVP"
      }
    },
    {
      "cell_type": "markdown",
      "source": [
        "To save our trained model, we can use the following code:\n"
      ],
      "metadata": {
        "id": "f9_xAurUX-GO"
      }
    },
    {
      "cell_type": "code",
      "source": [
        "PATH = './my_net.pth'\n",
        "torch.save(net.state_dict(), PATH)"
      ],
      "metadata": {
        "id": "WTI3viinYAeO"
      },
      "execution_count": 81,
      "outputs": []
    },
    {
      "cell_type": "code",
      "source": [
        "net = Net()\n",
        "net.load_state_dict(torch.load(PATH))"
      ],
      "metadata": {
        "colab": {
          "base_uri": "https://localhost:8080/"
        },
        "id": "LxPt0tu5Y-L_",
        "outputId": "09fcb8e8-ee2a-4940-beb5-4713a2be5604"
      },
      "execution_count": 82,
      "outputs": [
        {
          "output_type": "execute_result",
          "data": {
            "text/plain": [
              "<All keys matched successfully>"
            ]
          },
          "metadata": {},
          "execution_count": 82
        }
      ]
    },
    {
      "cell_type": "markdown",
      "source": [
        "Let’s look at how the network performs on the whole testing dataset"
      ],
      "metadata": {
        "id": "xar5CZRLZAFL"
      }
    },
    {
      "cell_type": "markdown",
      "source": [
        "We have trained the network for 2 passes over the training dataset. But we need to\n",
        "check if the network has learnt anything at all.\n",
        "We will check this by predicting the class label that the neural network outputs, and\n",
        "checking it against the ground-truth. If the prediction is correct, we add the sample\n",
        "to the list of correct predictions. The outputs are energies for the 10 classes. The\n",
        "higher the energy for a class, the more the network thinks that the image is of the\n",
        "particular class. So, we get the prediction by finding the index of the highest energy.\n",
        "Let’s load back in our saved model (note: saving and re-loading the model wasn’t\n",
        "necessary here, we only did it to illustrate how to do so):\n"
      ],
      "metadata": {
        "id": "rDAifTrLY8ZB"
      }
    },
    {
      "cell_type": "markdown",
      "source": [
        "**Test the network on the test data**\n"
      ],
      "metadata": {
        "id": "re8_nl4sY3wt"
      }
    },
    {
      "cell_type": "code",
      "source": [
        "correct = 0\n",
        "total = 0\n",
        "# since we're not training, we don't need to calculate the gradients for our outputs\n",
        "with torch.no_grad():\n",
        "  for data in test_dataloader:\n",
        "    images, labels = data\n",
        "    # calculate outputs by running images through the network\n",
        "    outputs = net(torch.flatten(images,1))\n",
        "    # the class with the highest energy is what we choose as prediction\n",
        "    _, predicted = torch.max(outputs.data, 1)\n",
        "    total += labels.size(0)\n",
        "    correct += (predicted == labels).sum().item()\n",
        "print(f'Accuracy of the network on the 10000 test images: {100 * correct// total} %')"
      ],
      "metadata": {
        "colab": {
          "base_uri": "https://localhost:8080/"
        },
        "id": "N8h6_kDQZEdM",
        "outputId": "7b291b71-3e35-4ed5-e19b-88971138b260"
      },
      "execution_count": 83,
      "outputs": [
        {
          "output_type": "stream",
          "name": "stdout",
          "text": [
            "Accuracy of the network on the 10000 test images: 89 %\n"
          ]
        }
      ]
    },
    {
      "cell_type": "markdown",
      "source": [
        "## Task 5\n",
        " Train the network in the previous example, but instead of using 2 hidden\n",
        "layers, try 3 hidden layers.\n"
      ],
      "metadata": {
        "id": "GFVPLFWHZT5N"
      }
    },
    {
      "cell_type": "code",
      "source": [
        "import torch\n",
        "import torch.nn as nn\n",
        "import torch.nn.functional as F\n",
        "\n",
        "class Net(nn.Module):\n",
        "\n",
        "  def __init__(self):\n",
        "    super(Net, self).__init__()\n",
        "    # an affine operation: y = Wx + b\n",
        "    # 784 is the input dimension, and 68 is the output dimenstion of the first hidden layer 7\n",
        "    self.fc1 = nn.Linear(784, 128)   #  input layer  (L1) :  input dimension ( 28 X 28 ) Layer 1 , output -> 64\n",
        "    self.fc2 = nn.Linear(128, 64)    #  hidden layer (L2) :  input 64 , output -> 64\n",
        "    self.fc3 = nn.Linear(64 , 32)   #  hidden layer (L3) :  input 64 , output -> 10\n",
        "    self.fc4 = nn.Linear(32, 10)    #  hidden layer (L4) :  input 64 , output -> 10\n",
        "\n",
        "\n",
        "  def forward(self, x):\n",
        "    # apply the first layer with relu activation\n",
        "    x = F.relu(self.fc1(x))\n",
        "    x = F.relu(self.fc2(x))\n",
        "    x = F.relu(self.fc3(x))\n",
        "    x = self.fc4(x)\n",
        "\n",
        "    return x\n",
        "\n"
      ],
      "metadata": {
        "id": "mJip880OadpO"
      },
      "execution_count": 105,
      "outputs": []
    },
    {
      "cell_type": "code",
      "source": [
        "net = Net()\n",
        "print(net)"
      ],
      "metadata": {
        "colab": {
          "base_uri": "https://localhost:8080/"
        },
        "id": "WOaWNPyVjAqG",
        "outputId": "092529ea-1598-4156-840d-dc37ba24cbf0"
      },
      "execution_count": 106,
      "outputs": [
        {
          "output_type": "stream",
          "name": "stdout",
          "text": [
            "Net(\n",
            "  (fc1): Linear(in_features=784, out_features=128, bias=True)\n",
            "  (fc2): Linear(in_features=128, out_features=64, bias=True)\n",
            "  (fc3): Linear(in_features=64, out_features=32, bias=True)\n",
            "  (fc4): Linear(in_features=32, out_features=10, bias=True)\n",
            ")\n"
          ]
        }
      ]
    },
    {
      "cell_type": "code",
      "source": [
        "for epoch in range(2): # loop over the dataset multiple times\n",
        "  running_loss = 0.0\n",
        "  for i, data in enumerate(train_dataloader, 0):\n",
        "    # get the inputs; data is a list of [inputs, labels]\n",
        "    inputs, labels = data\n",
        "    # zero the parameter gradients\n",
        "    optimizer.zero_grad()\n",
        "    # forward + backward + optimize\n",
        "    outputs = net(torch.flatten(inputs,1))\n",
        "    iteration_loss = loss(outputs, labels)\n",
        "    iteration_loss.backward()\n",
        "    optimizer.step()\n",
        "    # print statistics\n",
        "    running_loss += iteration_loss.item()\n",
        "    if i % 2000 == 1999: # print every 2000 mini-batches\n",
        "      print(f'[{epoch + 1}, {i + 1:5d}] loss: {running_loss / 2000:.3f}')\n",
        "      running_loss = 0.0\n",
        "print('Finished Training')"
      ],
      "metadata": {
        "colab": {
          "base_uri": "https://localhost:8080/"
        },
        "id": "MIA5OT8dkA18",
        "outputId": "2a1f78b6-4d0b-4d46-f9d0-3fe643e73a44"
      },
      "execution_count": 107,
      "outputs": [
        {
          "output_type": "stream",
          "name": "stdout",
          "text": [
            "[1,  2000] loss: 2.306\n",
            "[1,  4000] loss: 2.307\n",
            "[1,  6000] loss: 2.306\n",
            "[1,  8000] loss: 2.306\n",
            "[1, 10000] loss: 2.306\n",
            "[1, 12000] loss: 2.306\n",
            "[1, 14000] loss: 2.305\n",
            "[2,  2000] loss: 2.305\n",
            "[2,  4000] loss: 2.305\n",
            "[2,  6000] loss: 2.306\n",
            "[2,  8000] loss: 2.307\n",
            "[2, 10000] loss: 2.307\n",
            "[2, 12000] loss: 2.306\n",
            "[2, 14000] loss: 2.307\n",
            "Finished Training\n"
          ]
        }
      ]
    },
    {
      "cell_type": "code",
      "source": [
        "correct = 0\n",
        "total = 0\n",
        "# since we're not training, we don't need to calculate the gradients for our outputs\n",
        "with torch.no_grad():\n",
        "  for data in test_dataloader:\n",
        "    images, labels = data\n",
        "    # calculate outputs by running images through the network\n",
        "    outputs = net(torch.flatten(images,1))\n",
        "    # the class with the highest energy is what we choose as prediction\n",
        "    _, predicted = torch.max(outputs.data, 1)\n",
        "    total += labels.size(0)\n",
        "    correct += (predicted == labels).sum().item()\n",
        "print(f'Accuracy of the network on the 10000 test images: {100 * correct// total} %')"
      ],
      "metadata": {
        "colab": {
          "base_uri": "https://localhost:8080/"
        },
        "id": "d5eT3sqsmqQq",
        "outputId": "98dbb06a-ed2e-45ba-9d95-a02bf5ca0a72"
      },
      "execution_count": 108,
      "outputs": [
        {
          "output_type": "stream",
          "name": "stdout",
          "text": [
            "Accuracy of the network on the 10000 test images: 9 %\n"
          ]
        }
      ]
    },
    {
      "cell_type": "markdown",
      "source": [
        "the accuracy of 3 hidden layer network is significantly poor comapring with 2 hidden layer, I tried to increase the number of epochs to and 5 and 10 but the results are the same."
      ],
      "metadata": {
        "id": "1Gjd6_0UoKYf"
      }
    },
    {
      "cell_type": "markdown",
      "source": [
        "## Task 6\n",
        "Train the network in the previous example using Adam optimizer."
      ],
      "metadata": {
        "id": "Ca_GIyVuoYxe"
      }
    },
    {
      "cell_type": "code",
      "source": [
        "optimizer = optim.Adam(net.parameters(), lr=0.001)\n",
        "\n",
        "loss_function = nn.CrossEntropyLoss()\n",
        "\n"
      ],
      "metadata": {
        "id": "7u9qHgUYogOY"
      },
      "execution_count": 109,
      "outputs": []
    },
    {
      "cell_type": "code",
      "source": [
        "for epoch in range(2): # loop over the dataset multiple times\n",
        "  running_loss = 0.0\n",
        "  for i, data in enumerate(train_dataloader, 0):\n",
        "    # get the inputs; data is a list of [inputs, labels]\n",
        "    inputs, labels = data\n",
        "    # zero the parameter gradients\n",
        "    optimizer.zero_grad()\n",
        "    # forward + backward + optimize\n",
        "    outputs = net(torch.flatten(inputs,1))\n",
        "    iteration_loss = loss(outputs, labels)\n",
        "    iteration_loss.backward()\n",
        "    optimizer.step()\n",
        "    # print statistics\n",
        "    running_loss += iteration_loss.item()\n",
        "    if i % 2000 == 1999: # print every 2000 mini-batches\n",
        "      print(f'[{epoch + 1}, {i + 1:5d}] loss: {running_loss / 2000:.3f}')\n",
        "      running_loss = 0.0\n",
        "print('Finished Training')"
      ],
      "metadata": {
        "colab": {
          "base_uri": "https://localhost:8080/"
        },
        "id": "vFl97a-9pqyL",
        "outputId": "17577cfc-b032-424e-bd19-d9186cd62533"
      },
      "execution_count": 110,
      "outputs": [
        {
          "output_type": "stream",
          "name": "stdout",
          "text": [
            "[1,  2000] loss: 0.569\n",
            "[1,  4000] loss: 0.283\n",
            "[1,  6000] loss: 0.221\n",
            "[1,  8000] loss: 0.177\n",
            "[1, 10000] loss: 0.165\n",
            "[1, 12000] loss: 0.161\n",
            "[1, 14000] loss: 0.157\n",
            "[2,  2000] loss: 0.124\n",
            "[2,  4000] loss: 0.121\n",
            "[2,  6000] loss: 0.114\n",
            "[2,  8000] loss: 0.118\n",
            "[2, 10000] loss: 0.107\n",
            "[2, 12000] loss: 0.106\n",
            "[2, 14000] loss: 0.106\n",
            "Finished Training\n"
          ]
        }
      ]
    },
    {
      "cell_type": "code",
      "source": [
        "correct = 0\n",
        "total = 0\n",
        "# since we're not training, we don't need to calculate the gradients for our outputs\n",
        "with torch.no_grad():\n",
        "  for data in test_dataloader:\n",
        "    images, labels = data\n",
        "    # calculate outputs by running images through the network\n",
        "    outputs = net(torch.flatten(images,1))\n",
        "    # the class with the highest energy is what we choose as prediction\n",
        "    _, predicted = torch.max(outputs.data, 1)\n",
        "    total += labels.size(0)\n",
        "    correct += (predicted == labels).sum().item()\n",
        "print(f'Accuracy of the network on the 10000 test images: {100 * correct// total} %')"
      ],
      "metadata": {
        "colab": {
          "base_uri": "https://localhost:8080/"
        },
        "id": "1kcp24Dtp9jt",
        "outputId": "b80ebc25-7eec-4652-e0c2-fe4fc520f326"
      },
      "execution_count": 111,
      "outputs": [
        {
          "output_type": "stream",
          "name": "stdout",
          "text": [
            "Accuracy of the network on the 10000 test images: 97 %\n"
          ]
        }
      ]
    },
    {
      "cell_type": "markdown",
      "source": [
        "the adam optimizer made a great improvements in the loss function , before using it the average was 2.3 with it the average become 0.5"
      ],
      "metadata": {
        "id": "7JDRi8iup_ns"
      }
    },
    {
      "cell_type": "markdown",
      "source": [
        "\n",
        "\n",
        "\n",
        "\n",
        "---\n",
        "\n",
        "\n",
        "\n",
        "\n"
      ],
      "metadata": {
        "id": "gyh3Jis7qC1u"
      }
    },
    {
      "cell_type": "markdown",
      "source": [
        "## Training on GPU"
      ],
      "metadata": {
        "id": "PMM4hWWHdkgw"
      }
    },
    {
      "cell_type": "markdown",
      "source": [
        "The training in the previous example was done on CPU. But how do we train our\n",
        "model on GPU?\n",
        "Just like how you transfer a Tensor onto the GPU, you transfer the neural net onto\n",
        "the GPU. Let’s first define our device as the first visible cuda device if we have CUDA\n",
        "available:"
      ],
      "metadata": {
        "id": "XAHMUsEAdpgA"
      }
    },
    {
      "cell_type": "code",
      "source": [
        "device = torch.device('cuda:0' if torch.cuda.is_available() else 'cpu')\n",
        "# Assuming that we are on a CUDA machine, this should print a CUDA device:\n",
        "print(device)\n"
      ],
      "metadata": {
        "colab": {
          "base_uri": "https://localhost:8080/"
        },
        "id": "vp45bsRWdrdr",
        "outputId": "9322d930-0736-43a1-83e6-dcdfa97dfc5d"
      },
      "execution_count": 113,
      "outputs": [
        {
          "output_type": "stream",
          "name": "stdout",
          "text": [
            "cpu\n"
          ]
        }
      ]
    },
    {
      "cell_type": "markdown",
      "source": [
        "The rest of this section assumes that device is a CUDA device.\n",
        "Then these methods will recursively go over all modules and convert their parameters\n",
        "and buffers to CUDA tensors:"
      ],
      "metadata": {
        "id": "1QjKUR5ddw5t"
      }
    },
    {
      "cell_type": "code",
      "source": [
        "net.to(device)\n"
      ],
      "metadata": {
        "colab": {
          "base_uri": "https://localhost:8080/"
        },
        "id": "XSwb5POOdzvy",
        "outputId": "b35b3342-efa7-4fe8-e361-543a68fefd82"
      },
      "execution_count": 114,
      "outputs": [
        {
          "output_type": "execute_result",
          "data": {
            "text/plain": [
              "Net(\n",
              "  (fc1): Linear(in_features=784, out_features=128, bias=True)\n",
              "  (fc2): Linear(in_features=128, out_features=64, bias=True)\n",
              "  (fc3): Linear(in_features=64, out_features=32, bias=True)\n",
              "  (fc4): Linear(in_features=32, out_features=10, bias=True)\n",
              ")"
            ]
          },
          "metadata": {},
          "execution_count": 114
        }
      ]
    },
    {
      "cell_type": "markdown",
      "source": [
        "Remember that you will have to send the inputs and targets at every step to the\n",
        "GPU too:\n"
      ],
      "metadata": {
        "id": "UCji27Rid3qA"
      }
    },
    {
      "cell_type": "code",
      "source": [
        "inputs, labels = data[0].to(device), data[1].to(device)\n"
      ],
      "metadata": {
        "id": "747-eWEtd_y7"
      },
      "execution_count": 115,
      "outputs": []
    },
    {
      "cell_type": "markdown",
      "source": [
        "##Task 7\n",
        "Train the network in the previous example on GPU. Do you notice significant\n",
        "speedup? if not, try to increase the size of your network"
      ],
      "metadata": {
        "id": "ktI9mvAseB4y"
      }
    },
    {
      "cell_type": "code",
      "source": [
        "for epoch in range(2): # loop over the dataset multiple times\n",
        "  running_loss = 0.0\n",
        "  for i, data in enumerate(train_dataloader, 0):\n",
        "    # get the inputs; data is a list of [inputs, labels]\n",
        "    inputs, labels = data\n",
        "    # zero the parameter gradients\n",
        "    optimizer.zero_grad()\n",
        "    # forward + backward + optimize\n",
        "    outputs = net(torch.flatten(inputs,1))\n",
        "    iteration_loss = loss(outputs, labels)\n",
        "    iteration_loss.backward()\n",
        "    optimizer.step()\n",
        "    # print statistics\n",
        "    running_loss += iteration_loss.item()\n",
        "    if i % 2000 == 1999: # print every 2000 mini-batches\n",
        "      print(f'[{epoch + 1}, {i + 1:5d}] loss: {running_loss / 2000:.3f}')\n",
        "      running_loss = 0.0\n",
        "print('Finished Training')"
      ],
      "metadata": {
        "colab": {
          "base_uri": "https://localhost:8080/"
        },
        "id": "dXXn6lCcfaUb",
        "outputId": "dbdd3728-ab8c-47b7-c424-03b6ed377373"
      },
      "execution_count": 116,
      "outputs": [
        {
          "output_type": "stream",
          "name": "stdout",
          "text": [
            "[1,  2000] loss: 0.076\n",
            "[1,  4000] loss: 0.097\n",
            "[1,  6000] loss: 0.089\n",
            "[1,  8000] loss: 0.072\n",
            "[1, 10000] loss: 0.081\n",
            "[1, 12000] loss: 0.086\n",
            "[1, 14000] loss: 0.094\n",
            "[2,  2000] loss: 0.066\n",
            "[2,  4000] loss: 0.075\n",
            "[2,  6000] loss: 0.071\n",
            "[2,  8000] loss: 0.070\n",
            "[2, 10000] loss: 0.074\n",
            "[2, 12000] loss: 0.078\n",
            "[2, 14000] loss: 0.076\n",
            "Finished Training\n"
          ]
        }
      ]
    },
    {
      "cell_type": "code",
      "source": [
        "correct = 0\n",
        "total = 0\n",
        "# since we're not training, we don't need to calculate the gradients for our outputs\n",
        "with torch.no_grad():\n",
        "  for data in test_dataloader:\n",
        "    images, labels = data\n",
        "    # calculate outputs by running images through the network\n",
        "    outputs = net(torch.flatten(images,1))\n",
        "    # the class with the highest energy is what we choose as prediction\n",
        "    _, predicted = torch.max(outputs.data, 1)\n",
        "    total += labels.size(0)\n",
        "    correct += (predicted == labels).sum().item()\n",
        "print(f'Accuracy of the network on the 10000 test images: {100 * correct// total} %')"
      ],
      "metadata": {
        "colab": {
          "base_uri": "https://localhost:8080/"
        },
        "id": "lveOmuz-qryF",
        "outputId": "f238ea28-a7b0-42b8-a9e4-95dd078be41c"
      },
      "execution_count": 117,
      "outputs": [
        {
          "output_type": "stream",
          "name": "stdout",
          "text": [
            "Accuracy of the network on the 10000 test images: 97 %\n"
          ]
        }
      ]
    },
    {
      "cell_type": "markdown",
      "source": [
        "it seems that the GPU acceleration is not avaliable , which means the process time is similar as before."
      ],
      "metadata": {
        "id": "dFyVIuSJq0hG"
      }
    },
    {
      "cell_type": "markdown",
      "source": [
        "END REACHED\n",
        "\n",
        "\n",
        "---\n",
        "\n",
        "\n"
      ],
      "metadata": {
        "id": "AX9wHwZsqtSf"
      }
    }
  ]
}